{
 "cells": [
  {
   "cell_type": "markdown",
   "id": "10a20475",
   "metadata": {},
   "source": [
    "# Projet Capstone de Data Science\n",
    "\n",
    "## Présentation\n",
    "\n",
    "Si vous envisagez de sortir voir un film, dans quelle mesure pouvez-vous faire confiance aux critiques et aux évaluations en ligne ?\n",
    "\n",
    "*Surtout* si l'entreprise affichant la note gagne *aussi* de l'argent en vendant des billets de cinéma.\n",
    "\n",
    "Est-ce que l'entreprise a tendance à sur-évaluer les films avec de meilleures notes que celles qu'ils devraient obtenir ?\n",
    "\n"
   ]
  },
  {
   "cell_type": "markdown",
   "id": "563b9ba7",
   "metadata": {},
   "source": [
    "# Partie 1 : Comprendre le contexte et les données\n",
    "### les données\n",
    "\n",
    "Ce sont les données derrière l'histoire de l'article [Be Suspicious Of Online Movie Ratings, en particulier Fandango](http://fivethirtyeight.com/features/fandango-movies-ratings/) disponible publiquement sur : https://github.com/fivethirtyeight/data.\n",
    "\n",
    "Il existe deux fichiers csv, l'un avec les Stars (étoiles) et les Ratings (notes) affichés sur Fandango, et l'autre avec des données agrégées pour les notations/évaluations de films d'autres sites, tels que Metacritic, IMDB et Rotten Tomatoes."
   ]
  },
  {
   "cell_type": "markdown",
   "id": "9daf6641",
   "metadata": {},
   "source": [
    "#### all_sites_scores.csv\n",
    "\n",
    "`all_sites_scores.csv` contient tous les films qui ont une note Rotten Tomatoes, une note RT User, une note Metacritic, une note Metacritic User, une note IMDb, et au moins 30 critiques de fans sur Fandango. Les données de Fandango ont été extraites le 24 août 2015."
   ]
  },
  {
   "cell_type": "markdown",
   "id": "a9c48ee9",
   "metadata": {},
   "source": [
    "Column | Definition\n",
    "--- | -----------\n",
    "FILM | The film in question\n",
    "RottenTomatoes | The Rotten Tomatoes Tomatometer score  for the film\n",
    "RottenTomatoes_User | The Rotten Tomatoes user score for the film\n",
    "Metacritic | The Metacritic critic score for the film\n",
    "Metacritic_User | The Metacritic user score for the film\n",
    "IMDB | The IMDb user score for the film\n",
    "Metacritic_user_vote_count | The number of user votes the film had on Metacritic\n",
    "IMDB_user_vote_count | The number of user votes the film had on IMDb"
   ]
  },
  {
   "cell_type": "markdown",
   "id": "b688fae1",
   "metadata": {},
   "source": [
    "#### fandango_scape.csv"
   ]
  },
  {
   "cell_type": "markdown",
   "id": "56391792",
   "metadata": {},
   "source": [
    "`fandango_scrape.csv` contient tous les films de l'article 538 tirés de Fandango.\n",
    "\n",
    "Column | Definiton\n",
    "--- | ---------\n",
    "FILM | The movie\n",
    "STARS | Number of stars presented on Fandango.com\n",
    "RATING |  The Fandango ratingValue for the film, as pulled from the HTML of each page. This is the actual average score the movie obtained.\n",
    "VOTES | number of people who had reviewed the film at the time we pulled it."
   ]
  },
  {
   "cell_type": "markdown",
   "id": "839ca12a",
   "metadata": {},
   "source": [
    "## importation des librairies"
   ]
  },
  {
   "cell_type": "code",
   "execution_count": 3,
   "id": "a1e83c9e",
   "metadata": {},
   "outputs": [],
   "source": [
    "import numpy as np\n",
    "import pandas as pd\n",
    "import matplotlib.pyplot as plt\n",
    "import seaborn as sns \n",
    "\n",
    "%matplotlib inline"
   ]
  },
  {
   "cell_type": "markdown",
   "id": "187b035f",
   "metadata": {},
   "source": [
    "# Partie 2 : Exploration des scores affichés par Fandango par rapport aux évaluations des utilisateurs réels"
   ]
  },
  {
   "cell_type": "markdown",
   "id": "20bdfb94",
   "metadata": {},
   "source": [
    "## Lire le dataset"
   ]
  },
  {
   "cell_type": "code",
   "execution_count": 4,
   "id": "b32b8be4",
   "metadata": {},
   "outputs": [
    {
     "data": {
      "text/html": [
       "<div>\n",
       "<style scoped>\n",
       "    .dataframe tbody tr th:only-of-type {\n",
       "        vertical-align: middle;\n",
       "    }\n",
       "\n",
       "    .dataframe tbody tr th {\n",
       "        vertical-align: top;\n",
       "    }\n",
       "\n",
       "    .dataframe thead th {\n",
       "        text-align: right;\n",
       "    }\n",
       "</style>\n",
       "<table border=\"1\" class=\"dataframe\">\n",
       "  <thead>\n",
       "    <tr style=\"text-align: right;\">\n",
       "      <th></th>\n",
       "      <th>FILM</th>\n",
       "      <th>STARS</th>\n",
       "      <th>RATING</th>\n",
       "      <th>VOTES</th>\n",
       "    </tr>\n",
       "  </thead>\n",
       "  <tbody>\n",
       "    <tr>\n",
       "      <th>0</th>\n",
       "      <td>Fifty Shades of Grey (2015)</td>\n",
       "      <td>4.0</td>\n",
       "      <td>3.9</td>\n",
       "      <td>34846</td>\n",
       "    </tr>\n",
       "    <tr>\n",
       "      <th>1</th>\n",
       "      <td>Jurassic World (2015)</td>\n",
       "      <td>4.5</td>\n",
       "      <td>4.5</td>\n",
       "      <td>34390</td>\n",
       "    </tr>\n",
       "    <tr>\n",
       "      <th>2</th>\n",
       "      <td>American Sniper (2015)</td>\n",
       "      <td>5.0</td>\n",
       "      <td>4.8</td>\n",
       "      <td>34085</td>\n",
       "    </tr>\n",
       "    <tr>\n",
       "      <th>3</th>\n",
       "      <td>Furious 7 (2015)</td>\n",
       "      <td>5.0</td>\n",
       "      <td>4.8</td>\n",
       "      <td>33538</td>\n",
       "    </tr>\n",
       "    <tr>\n",
       "      <th>4</th>\n",
       "      <td>Inside Out (2015)</td>\n",
       "      <td>4.5</td>\n",
       "      <td>4.5</td>\n",
       "      <td>15749</td>\n",
       "    </tr>\n",
       "  </tbody>\n",
       "</table>\n",
       "</div>"
      ],
      "text/plain": [
       "                          FILM  STARS  RATING  VOTES\n",
       "0  Fifty Shades of Grey (2015)    4.0     3.9  34846\n",
       "1        Jurassic World (2015)    4.5     4.5  34390\n",
       "2       American Sniper (2015)    5.0     4.8  34085\n",
       "3             Furious 7 (2015)    5.0     4.8  33538\n",
       "4            Inside Out (2015)    4.5     4.5  15749"
      ]
     },
     "execution_count": 4,
     "metadata": {},
     "output_type": "execute_result"
    }
   ],
   "source": [
    "fandango = pd.read_csv('fandango_scrape.csv')\n",
    "fandango.head()"
   ]
  },
  {
   "cell_type": "code",
   "execution_count": 5,
   "id": "160759ae",
   "metadata": {},
   "outputs": [
    {
     "name": "stdout",
     "output_type": "stream",
     "text": [
      "<class 'pandas.core.frame.DataFrame'>\n",
      "RangeIndex: 504 entries, 0 to 503\n",
      "Data columns (total 4 columns):\n",
      " #   Column  Non-Null Count  Dtype  \n",
      "---  ------  --------------  -----  \n",
      " 0   FILM    504 non-null    object \n",
      " 1   STARS   504 non-null    float64\n",
      " 2   RATING  504 non-null    float64\n",
      " 3   VOTES   504 non-null    int64  \n",
      "dtypes: float64(2), int64(1), object(1)\n",
      "memory usage: 15.9+ KB\n"
     ]
    }
   ],
   "source": [
    "fandango.info()\n"
   ]
  },
  {
   "cell_type": "code",
   "execution_count": 6,
   "id": "7da03e74",
   "metadata": {},
   "outputs": [
    {
     "data": {
      "text/html": [
       "<div>\n",
       "<style scoped>\n",
       "    .dataframe tbody tr th:only-of-type {\n",
       "        vertical-align: middle;\n",
       "    }\n",
       "\n",
       "    .dataframe tbody tr th {\n",
       "        vertical-align: top;\n",
       "    }\n",
       "\n",
       "    .dataframe thead th {\n",
       "        text-align: right;\n",
       "    }\n",
       "</style>\n",
       "<table border=\"1\" class=\"dataframe\">\n",
       "  <thead>\n",
       "    <tr style=\"text-align: right;\">\n",
       "      <th></th>\n",
       "      <th>STARS</th>\n",
       "      <th>RATING</th>\n",
       "      <th>VOTES</th>\n",
       "    </tr>\n",
       "  </thead>\n",
       "  <tbody>\n",
       "    <tr>\n",
       "      <th>count</th>\n",
       "      <td>504.000000</td>\n",
       "      <td>504.000000</td>\n",
       "      <td>504.000000</td>\n",
       "    </tr>\n",
       "    <tr>\n",
       "      <th>mean</th>\n",
       "      <td>3.558532</td>\n",
       "      <td>3.375794</td>\n",
       "      <td>1147.863095</td>\n",
       "    </tr>\n",
       "    <tr>\n",
       "      <th>std</th>\n",
       "      <td>1.563133</td>\n",
       "      <td>1.491223</td>\n",
       "      <td>3830.583136</td>\n",
       "    </tr>\n",
       "    <tr>\n",
       "      <th>min</th>\n",
       "      <td>0.000000</td>\n",
       "      <td>0.000000</td>\n",
       "      <td>0.000000</td>\n",
       "    </tr>\n",
       "    <tr>\n",
       "      <th>25%</th>\n",
       "      <td>3.500000</td>\n",
       "      <td>3.100000</td>\n",
       "      <td>3.000000</td>\n",
       "    </tr>\n",
       "    <tr>\n",
       "      <th>50%</th>\n",
       "      <td>4.000000</td>\n",
       "      <td>3.800000</td>\n",
       "      <td>18.500000</td>\n",
       "    </tr>\n",
       "    <tr>\n",
       "      <th>75%</th>\n",
       "      <td>4.500000</td>\n",
       "      <td>4.300000</td>\n",
       "      <td>189.750000</td>\n",
       "    </tr>\n",
       "    <tr>\n",
       "      <th>max</th>\n",
       "      <td>5.000000</td>\n",
       "      <td>5.000000</td>\n",
       "      <td>34846.000000</td>\n",
       "    </tr>\n",
       "  </tbody>\n",
       "</table>\n",
       "</div>"
      ],
      "text/plain": [
       "            STARS      RATING         VOTES\n",
       "count  504.000000  504.000000    504.000000\n",
       "mean     3.558532    3.375794   1147.863095\n",
       "std      1.563133    1.491223   3830.583136\n",
       "min      0.000000    0.000000      0.000000\n",
       "25%      3.500000    3.100000      3.000000\n",
       "50%      4.000000    3.800000     18.500000\n",
       "75%      4.500000    4.300000    189.750000\n",
       "max      5.000000    5.000000  34846.000000"
      ]
     },
     "execution_count": 6,
     "metadata": {},
     "output_type": "execute_result"
    }
   ],
   "source": [
    "fandango.describe()"
   ]
  },
  {
   "cell_type": "markdown",
   "id": "1bc2fbea",
   "metadata": {},
   "source": [
    "## Explorons la relation entre la popularité d'un film et son classement.\n",
    "## Nuage de points montrant la relation entre les notes et les votes."
   ]
  },
  {
   "cell_type": "code",
   "execution_count": 7,
   "id": "e7b887fd",
   "metadata": {},
   "outputs": [
    {
     "data": {
      "text/plain": [
       "<AxesSubplot:xlabel='RATING', ylabel='VOTES'>"
      ]
     },
     "execution_count": 7,
     "metadata": {},
     "output_type": "execute_result"
    },
    {
     "data": {
      "image/png": "[encoded data removed]",
      "text/plain": [
       "<Figure size 720x432 with 1 Axes>"
      ]
     },
     "metadata": {
      "needs_background": "light"
     },
     "output_type": "display_data"
    }
   ],
   "source": [
    "plt.figure(figsize=(10,6))\n",
    "sns.scatterplot(x='RATING', y='VOTES', data=fandango)"
   ]
  },
  {
   "cell_type": "markdown",
   "id": "95b4ff88",
   "metadata": {},
   "source": [
    "## Correlation entre les Facteurs "
   ]
  },
  {
   "cell_type": "code",
   "execution_count": 8,
   "id": "9712091d",
   "metadata": {},
   "outputs": [
    {
     "data": {
      "text/html": [
       "<div>\n",
       "<style scoped>\n",
       "    .dataframe tbody tr th:only-of-type {\n",
       "        vertical-align: middle;\n",
       "    }\n",
       "\n",
       "    .dataframe tbody tr th {\n",
       "        vertical-align: top;\n",
       "    }\n",
       "\n",
       "    .dataframe thead th {\n",
       "        text-align: right;\n",
       "    }\n",
       "</style>\n",
       "<table border=\"1\" class=\"dataframe\">\n",
       "  <thead>\n",
       "    <tr style=\"text-align: right;\">\n",
       "      <th></th>\n",
       "      <th>STARS</th>\n",
       "      <th>RATING</th>\n",
       "      <th>VOTES</th>\n",
       "    </tr>\n",
       "  </thead>\n",
       "  <tbody>\n",
       "    <tr>\n",
       "      <th>STARS</th>\n",
       "      <td>1.000000</td>\n",
       "      <td>0.994696</td>\n",
       "      <td>0.164218</td>\n",
       "    </tr>\n",
       "    <tr>\n",
       "      <th>RATING</th>\n",
       "      <td>0.994696</td>\n",
       "      <td>1.000000</td>\n",
       "      <td>0.163764</td>\n",
       "    </tr>\n",
       "    <tr>\n",
       "      <th>VOTES</th>\n",
       "      <td>0.164218</td>\n",
       "      <td>0.163764</td>\n",
       "      <td>1.000000</td>\n",
       "    </tr>\n",
       "  </tbody>\n",
       "</table>\n",
       "</div>"
      ],
      "text/plain": [
       "           STARS    RATING     VOTES\n",
       "STARS   1.000000  0.994696  0.164218\n",
       "RATING  0.994696  1.000000  0.163764\n",
       "VOTES   0.164218  0.163764  1.000000"
      ]
     },
     "execution_count": 8,
     "metadata": {},
     "output_type": "execute_result"
    }
   ],
   "source": [
    "fandango.corr()"
   ]
  },
  {
   "cell_type": "code",
   "execution_count": 9,
   "id": "252b6730",
   "metadata": {},
   "outputs": [
    {
     "data": {
      "text/html": [
       "<div>\n",
       "<style scoped>\n",
       "    .dataframe tbody tr th:only-of-type {\n",
       "        vertical-align: middle;\n",
       "    }\n",
       "\n",
       "    .dataframe tbody tr th {\n",
       "        vertical-align: top;\n",
       "    }\n",
       "\n",
       "    .dataframe thead th {\n",
       "        text-align: right;\n",
       "    }\n",
       "</style>\n",
       "<table border=\"1\" class=\"dataframe\">\n",
       "  <thead>\n",
       "    <tr style=\"text-align: right;\">\n",
       "      <th></th>\n",
       "      <th>FILM</th>\n",
       "      <th>STARS</th>\n",
       "      <th>RATING</th>\n",
       "      <th>VOTES</th>\n",
       "    </tr>\n",
       "  </thead>\n",
       "  <tbody>\n",
       "    <tr>\n",
       "      <th>0</th>\n",
       "      <td>Fifty Shades of Grey (2015)</td>\n",
       "      <td>4.0</td>\n",
       "      <td>3.9</td>\n",
       "      <td>34846</td>\n",
       "    </tr>\n",
       "    <tr>\n",
       "      <th>1</th>\n",
       "      <td>Jurassic World (2015)</td>\n",
       "      <td>4.5</td>\n",
       "      <td>4.5</td>\n",
       "      <td>34390</td>\n",
       "    </tr>\n",
       "    <tr>\n",
       "      <th>2</th>\n",
       "      <td>American Sniper (2015)</td>\n",
       "      <td>5.0</td>\n",
       "      <td>4.8</td>\n",
       "      <td>34085</td>\n",
       "    </tr>\n",
       "    <tr>\n",
       "      <th>3</th>\n",
       "      <td>Furious 7 (2015)</td>\n",
       "      <td>5.0</td>\n",
       "      <td>4.8</td>\n",
       "      <td>33538</td>\n",
       "    </tr>\n",
       "    <tr>\n",
       "      <th>4</th>\n",
       "      <td>Inside Out (2015)</td>\n",
       "      <td>4.5</td>\n",
       "      <td>4.5</td>\n",
       "      <td>15749</td>\n",
       "    </tr>\n",
       "  </tbody>\n",
       "</table>\n",
       "</div>"
      ],
      "text/plain": [
       "                          FILM  STARS  RATING  VOTES\n",
       "0  Fifty Shades of Grey (2015)    4.0     3.9  34846\n",
       "1        Jurassic World (2015)    4.5     4.5  34390\n",
       "2       American Sniper (2015)    5.0     4.8  34085\n",
       "3             Furious 7 (2015)    5.0     4.8  33538\n",
       "4            Inside Out (2015)    4.5     4.5  15749"
      ]
     },
     "execution_count": 9,
     "metadata": {},
     "output_type": "execute_result"
    }
   ],
   "source": [
    "fandango.head()"
   ]
  },
  {
   "cell_type": "markdown",
   "id": "0a65aeca",
   "metadata": {},
   "source": [
    "##  Combien de films y a-t-il par année dans le DataFrame Fandango ?**"
   ]
  },
  {
   "cell_type": "code",
   "execution_count": 10,
   "id": "539e3c2e",
   "metadata": {},
   "outputs": [
    {
     "data": {
      "text/html": [
       "<div>\n",
       "<style scoped>\n",
       "    .dataframe tbody tr th:only-of-type {\n",
       "        vertical-align: middle;\n",
       "    }\n",
       "\n",
       "    .dataframe tbody tr th {\n",
       "        vertical-align: top;\n",
       "    }\n",
       "\n",
       "    .dataframe thead th {\n",
       "        text-align: right;\n",
       "    }\n",
       "</style>\n",
       "<table border=\"1\" class=\"dataframe\">\n",
       "  <thead>\n",
       "    <tr style=\"text-align: right;\">\n",
       "      <th></th>\n",
       "      <th>FILM</th>\n",
       "      <th>STARS</th>\n",
       "      <th>RATING</th>\n",
       "      <th>VOTES</th>\n",
       "      <th>YEAR</th>\n",
       "    </tr>\n",
       "  </thead>\n",
       "  <tbody>\n",
       "    <tr>\n",
       "      <th>0</th>\n",
       "      <td>Fifty Shades of Grey (2015)</td>\n",
       "      <td>4.0</td>\n",
       "      <td>3.9</td>\n",
       "      <td>34846</td>\n",
       "      <td>2015</td>\n",
       "    </tr>\n",
       "    <tr>\n",
       "      <th>1</th>\n",
       "      <td>Jurassic World (2015)</td>\n",
       "      <td>4.5</td>\n",
       "      <td>4.5</td>\n",
       "      <td>34390</td>\n",
       "      <td>2015</td>\n",
       "    </tr>\n",
       "    <tr>\n",
       "      <th>2</th>\n",
       "      <td>American Sniper (2015)</td>\n",
       "      <td>5.0</td>\n",
       "      <td>4.8</td>\n",
       "      <td>34085</td>\n",
       "      <td>2015</td>\n",
       "    </tr>\n",
       "    <tr>\n",
       "      <th>3</th>\n",
       "      <td>Furious 7 (2015)</td>\n",
       "      <td>5.0</td>\n",
       "      <td>4.8</td>\n",
       "      <td>33538</td>\n",
       "      <td>2015</td>\n",
       "    </tr>\n",
       "    <tr>\n",
       "      <th>4</th>\n",
       "      <td>Inside Out (2015)</td>\n",
       "      <td>4.5</td>\n",
       "      <td>4.5</td>\n",
       "      <td>15749</td>\n",
       "      <td>2015</td>\n",
       "    </tr>\n",
       "  </tbody>\n",
       "</table>\n",
       "</div>"
      ],
      "text/plain": [
       "                          FILM  STARS  RATING  VOTES  YEAR\n",
       "0  Fifty Shades of Grey (2015)    4.0     3.9  34846  2015\n",
       "1        Jurassic World (2015)    4.5     4.5  34390  2015\n",
       "2       American Sniper (2015)    5.0     4.8  34085  2015\n",
       "3             Furious 7 (2015)    5.0     4.8  33538  2015\n",
       "4            Inside Out (2015)    4.5     4.5  15749  2015"
      ]
     },
     "execution_count": 10,
     "metadata": {},
     "output_type": "execute_result"
    }
   ],
   "source": [
    "fandango['YEAR'] = fandango['FILM'].apply(lambda x: x.split(' ')[-1][1:-1])\n",
    "fandango.head()"
   ]
  },
  {
   "cell_type": "code",
   "execution_count": 11,
   "id": "abbcfe40",
   "metadata": {},
   "outputs": [
    {
     "data": {
      "text/plain": [
       "YEAR\n",
       "1964      1\n",
       "2012      1\n",
       "2014     23\n",
       "2015    478\n",
       "2016      1\n",
       "Name: FILM, dtype: int64"
      ]
     },
     "execution_count": 11,
     "metadata": {},
     "output_type": "execute_result"
    }
   ],
   "source": [
    "fandango.groupby('YEAR').count()['FILM']"
   ]
  },
  {
   "cell_type": "markdown",
   "id": "47a32a58",
   "metadata": {},
   "source": [
    "##  Visualisation du nombre de films par an avec un graphique :**"
   ]
  },
  {
   "cell_type": "code",
   "execution_count": 12,
   "id": "6f45622c",
   "metadata": {},
   "outputs": [
    {
     "name": "stderr",
     "output_type": "stream",
     "text": [
      "C:\\ProgramData\\Anaconda3\\lib\\site-packages\\seaborn\\_decorators.py:36: FutureWarning: Pass the following variable as a keyword arg: x. From version 0.12, the only valid positional argument will be `data`, and passing other arguments without an explicit keyword will result in an error or misinterpretation.\n",
      "  warnings.warn(\n"
     ]
    },
    {
     "data": {
      "text/plain": [
       "<seaborn.axisgrid.FacetGrid at 0x1b2f02fc460>"
      ]
     },
     "execution_count": 12,
     "metadata": {},
     "output_type": "execute_result"
    },
    {
     "data": {
      "image/png": "[encoded data removed]",
      "text/plain": [
       "<Figure size 432x216 with 1 Axes>"
      ]
     },
     "metadata": {
      "needs_background": "light"
     },
     "output_type": "display_data"
    }
   ],
   "source": [
    "\n",
    "g = sns.catplot(\"YEAR\", data=fandango, aspect=2,kind='count',height=3)\n",
    "g.set_xticklabels(step=1)"
   ]
  },
  {
   "cell_type": "markdown",
   "id": "1d71211a",
   "metadata": {},
   "source": [
    "## Les 10 films ayant obtenu le plus grand nombre de votes "
   ]
  },
  {
   "cell_type": "code",
   "execution_count": 13,
   "id": "9a8bb3bb",
   "metadata": {},
   "outputs": [
    {
     "data": {
      "text/html": [
       "<div>\n",
       "<style scoped>\n",
       "    .dataframe tbody tr th:only-of-type {\n",
       "        vertical-align: middle;\n",
       "    }\n",
       "\n",
       "    .dataframe tbody tr th {\n",
       "        vertical-align: top;\n",
       "    }\n",
       "\n",
       "    .dataframe thead th {\n",
       "        text-align: right;\n",
       "    }\n",
       "</style>\n",
       "<table border=\"1\" class=\"dataframe\">\n",
       "  <thead>\n",
       "    <tr style=\"text-align: right;\">\n",
       "      <th></th>\n",
       "      <th>FILM</th>\n",
       "      <th>STARS</th>\n",
       "      <th>RATING</th>\n",
       "      <th>VOTES</th>\n",
       "      <th>YEAR</th>\n",
       "    </tr>\n",
       "  </thead>\n",
       "  <tbody>\n",
       "    <tr>\n",
       "      <th>0</th>\n",
       "      <td>Fifty Shades of Grey (2015)</td>\n",
       "      <td>4.0</td>\n",
       "      <td>3.9</td>\n",
       "      <td>34846</td>\n",
       "      <td>2015</td>\n",
       "    </tr>\n",
       "    <tr>\n",
       "      <th>1</th>\n",
       "      <td>Jurassic World (2015)</td>\n",
       "      <td>4.5</td>\n",
       "      <td>4.5</td>\n",
       "      <td>34390</td>\n",
       "      <td>2015</td>\n",
       "    </tr>\n",
       "    <tr>\n",
       "      <th>2</th>\n",
       "      <td>American Sniper (2015)</td>\n",
       "      <td>5.0</td>\n",
       "      <td>4.8</td>\n",
       "      <td>34085</td>\n",
       "      <td>2015</td>\n",
       "    </tr>\n",
       "    <tr>\n",
       "      <th>3</th>\n",
       "      <td>Furious 7 (2015)</td>\n",
       "      <td>5.0</td>\n",
       "      <td>4.8</td>\n",
       "      <td>33538</td>\n",
       "      <td>2015</td>\n",
       "    </tr>\n",
       "    <tr>\n",
       "      <th>4</th>\n",
       "      <td>Inside Out (2015)</td>\n",
       "      <td>4.5</td>\n",
       "      <td>4.5</td>\n",
       "      <td>15749</td>\n",
       "      <td>2015</td>\n",
       "    </tr>\n",
       "    <tr>\n",
       "      <th>5</th>\n",
       "      <td>The Hobbit: The Battle of the Five Armies (2014)</td>\n",
       "      <td>4.5</td>\n",
       "      <td>4.3</td>\n",
       "      <td>15337</td>\n",
       "      <td>2014</td>\n",
       "    </tr>\n",
       "    <tr>\n",
       "      <th>6</th>\n",
       "      <td>Kingsman: The Secret Service (2015)</td>\n",
       "      <td>4.5</td>\n",
       "      <td>4.2</td>\n",
       "      <td>15205</td>\n",
       "      <td>2015</td>\n",
       "    </tr>\n",
       "    <tr>\n",
       "      <th>7</th>\n",
       "      <td>Minions (2015)</td>\n",
       "      <td>4.0</td>\n",
       "      <td>4.0</td>\n",
       "      <td>14998</td>\n",
       "      <td>2015</td>\n",
       "    </tr>\n",
       "    <tr>\n",
       "      <th>8</th>\n",
       "      <td>Avengers: Age of Ultron (2015)</td>\n",
       "      <td>5.0</td>\n",
       "      <td>4.5</td>\n",
       "      <td>14846</td>\n",
       "      <td>2015</td>\n",
       "    </tr>\n",
       "    <tr>\n",
       "      <th>9</th>\n",
       "      <td>Into the Woods (2014)</td>\n",
       "      <td>3.5</td>\n",
       "      <td>3.4</td>\n",
       "      <td>13055</td>\n",
       "      <td>2014</td>\n",
       "    </tr>\n",
       "  </tbody>\n",
       "</table>\n",
       "</div>"
      ],
      "text/plain": [
       "                                               FILM  STARS  RATING  VOTES  \\\n",
       "0                       Fifty Shades of Grey (2015)    4.0     3.9  34846   \n",
       "1                             Jurassic World (2015)    4.5     4.5  34390   \n",
       "2                            American Sniper (2015)    5.0     4.8  34085   \n",
       "3                                  Furious 7 (2015)    5.0     4.8  33538   \n",
       "4                                 Inside Out (2015)    4.5     4.5  15749   \n",
       "5  The Hobbit: The Battle of the Five Armies (2014)    4.5     4.3  15337   \n",
       "6               Kingsman: The Secret Service (2015)    4.5     4.2  15205   \n",
       "7                                    Minions (2015)    4.0     4.0  14998   \n",
       "8                    Avengers: Age of Ultron (2015)    5.0     4.5  14846   \n",
       "9                             Into the Woods (2014)    3.5     3.4  13055   \n",
       "\n",
       "   YEAR  \n",
       "0  2015  \n",
       "1  2015  \n",
       "2  2015  \n",
       "3  2015  \n",
       "4  2015  \n",
       "5  2014  \n",
       "6  2015  \n",
       "7  2015  \n",
       "8  2015  \n",
       "9  2014  "
      ]
     },
     "execution_count": 13,
     "metadata": {},
     "output_type": "execute_result"
    }
   ],
   "source": [
    "fandango.sort_values('VOTES', ascending=False).head(10)"
   ]
  },
  {
   "cell_type": "markdown",
   "id": "06915889",
   "metadata": {},
   "source": [
    "## Combien de films n'ont aucun avis/vote ?"
   ]
  },
  {
   "cell_type": "code",
   "execution_count": 80,
   "id": "0629aa08",
   "metadata": {},
   "outputs": [
    {
     "data": {
      "text/plain": [
       "69"
      ]
     },
     "execution_count": 80,
     "metadata": {},
     "output_type": "execute_result"
    }
   ],
   "source": [
    "fandango[fandango['VOTES'] == 0].count()['FILM']"
   ]
  },
  {
   "cell_type": "markdown",
   "id": "4348c9b4",
   "metadata": {},
   "source": [
    "## On supprime  les films sans avis"
   ]
  },
  {
   "cell_type": "code",
   "execution_count": 81,
   "id": "ae6df902",
   "metadata": {},
   "outputs": [],
   "source": [
    "df = fandango[fandango['VOTES'] != 0]"
   ]
  },
  {
   "cell_type": "code",
   "execution_count": 82,
   "id": "ca5386b8",
   "metadata": {
    "scrolled": true
   },
   "outputs": [
    {
     "data": {
      "text/html": [
       "<div>\n",
       "<style scoped>\n",
       "    .dataframe tbody tr th:only-of-type {\n",
       "        vertical-align: middle;\n",
       "    }\n",
       "\n",
       "    .dataframe tbody tr th {\n",
       "        vertical-align: top;\n",
       "    }\n",
       "\n",
       "    .dataframe thead th {\n",
       "        text-align: right;\n",
       "    }\n",
       "</style>\n",
       "<table border=\"1\" class=\"dataframe\">\n",
       "  <thead>\n",
       "    <tr style=\"text-align: right;\">\n",
       "      <th></th>\n",
       "      <th>FILM</th>\n",
       "      <th>STARS</th>\n",
       "      <th>RATING</th>\n",
       "      <th>VOTES</th>\n",
       "      <th>YEAR</th>\n",
       "    </tr>\n",
       "  </thead>\n",
       "  <tbody>\n",
       "    <tr>\n",
       "      <th>0</th>\n",
       "      <td>Fifty Shades of Grey (2015)</td>\n",
       "      <td>4.0</td>\n",
       "      <td>3.9</td>\n",
       "      <td>34846</td>\n",
       "      <td>2015</td>\n",
       "    </tr>\n",
       "    <tr>\n",
       "      <th>1</th>\n",
       "      <td>Jurassic World (2015)</td>\n",
       "      <td>4.5</td>\n",
       "      <td>4.5</td>\n",
       "      <td>34390</td>\n",
       "      <td>2015</td>\n",
       "    </tr>\n",
       "    <tr>\n",
       "      <th>2</th>\n",
       "      <td>American Sniper (2015)</td>\n",
       "      <td>5.0</td>\n",
       "      <td>4.8</td>\n",
       "      <td>34085</td>\n",
       "      <td>2015</td>\n",
       "    </tr>\n",
       "    <tr>\n",
       "      <th>3</th>\n",
       "      <td>Furious 7 (2015)</td>\n",
       "      <td>5.0</td>\n",
       "      <td>4.8</td>\n",
       "      <td>33538</td>\n",
       "      <td>2015</td>\n",
       "    </tr>\n",
       "    <tr>\n",
       "      <th>4</th>\n",
       "      <td>Inside Out (2015)</td>\n",
       "      <td>4.5</td>\n",
       "      <td>4.5</td>\n",
       "      <td>15749</td>\n",
       "      <td>2015</td>\n",
       "    </tr>\n",
       "    <tr>\n",
       "      <th>...</th>\n",
       "      <td>...</td>\n",
       "      <td>...</td>\n",
       "      <td>...</td>\n",
       "      <td>...</td>\n",
       "      <td>...</td>\n",
       "    </tr>\n",
       "    <tr>\n",
       "      <th>430</th>\n",
       "      <td>That Sugar Film (2015)</td>\n",
       "      <td>5.0</td>\n",
       "      <td>5.0</td>\n",
       "      <td>1</td>\n",
       "      <td>2015</td>\n",
       "    </tr>\n",
       "    <tr>\n",
       "      <th>431</th>\n",
       "      <td>The Intern (2015)</td>\n",
       "      <td>5.0</td>\n",
       "      <td>5.0</td>\n",
       "      <td>1</td>\n",
       "      <td>2015</td>\n",
       "    </tr>\n",
       "    <tr>\n",
       "      <th>432</th>\n",
       "      <td>The Park Bench (2015)</td>\n",
       "      <td>5.0</td>\n",
       "      <td>5.0</td>\n",
       "      <td>1</td>\n",
       "      <td>2015</td>\n",
       "    </tr>\n",
       "    <tr>\n",
       "      <th>433</th>\n",
       "      <td>The Wanted 18 (2015)</td>\n",
       "      <td>5.0</td>\n",
       "      <td>5.0</td>\n",
       "      <td>1</td>\n",
       "      <td>2015</td>\n",
       "    </tr>\n",
       "    <tr>\n",
       "      <th>434</th>\n",
       "      <td>Z For Zachariah (2015)</td>\n",
       "      <td>5.0</td>\n",
       "      <td>5.0</td>\n",
       "      <td>1</td>\n",
       "      <td>2015</td>\n",
       "    </tr>\n",
       "  </tbody>\n",
       "</table>\n",
       "<p>435 rows × 5 columns</p>\n",
       "</div>"
      ],
      "text/plain": [
       "                            FILM  STARS  RATING  VOTES  YEAR\n",
       "0    Fifty Shades of Grey (2015)    4.0     3.9  34846  2015\n",
       "1          Jurassic World (2015)    4.5     4.5  34390  2015\n",
       "2         American Sniper (2015)    5.0     4.8  34085  2015\n",
       "3               Furious 7 (2015)    5.0     4.8  33538  2015\n",
       "4              Inside Out (2015)    4.5     4.5  15749  2015\n",
       "..                           ...    ...     ...    ...   ...\n",
       "430       That Sugar Film (2015)    5.0     5.0      1  2015\n",
       "431            The Intern (2015)    5.0     5.0      1  2015\n",
       "432        The Park Bench (2015)    5.0     5.0      1  2015\n",
       "433         The Wanted 18 (2015)    5.0     5.0      1  2015\n",
       "434       Z For Zachariah (2015)    5.0     5.0      1  2015\n",
       "\n",
       "[435 rows x 5 columns]"
      ]
     },
     "execution_count": 82,
     "metadata": {},
     "output_type": "execute_result"
    }
   ],
   "source": [
    "df"
   ]
  },
  {
   "cell_type": "markdown",
   "id": "d10565f6",
   "metadata": {},
   "source": [
    "## Comme indiqué dans l'article, en raison de l'affichage HTML et du classement par étoiles, la note réelle de l'utilisateur peut être légèrement différente de celle affichée à un utilisateur. Visualisons cette différence avec des distributions\n"
   ]
  },
  {
   "cell_type": "code",
   "execution_count": 83,
   "id": "1dc03f56",
   "metadata": {
    "scrolled": true
   },
   "outputs": [
    {
     "data": {
      "image/png": "[encoded data removed]",
      "text/plain": [
       "<Figure size 792x360 with 1 Axes>"
      ]
     },
     "metadata": {
      "needs_background": "light"
     },
     "output_type": "display_data"
    }
   ],
   "source": [
    "df1 = pd.concat([df['RATING'],df['STARS']], axis=1)\n",
    "plt.figure(figsize=(11,5))\n",
    "ax = sns.kdeplot(data=df1,shade=True,clip=(0,5))\n",
    "plt.legend(labels=['Note réelle','Nombre d\\'étoiles affichées'], fontsize='x-large', frameon=True)\n",
    "sns.move_legend(ax, \"upper left\", bbox_to_anchor=(1.05 , .6))\n",
    "\n",
    "plt.xlabel('RATING')\n",
    "plt.show()\n"
   ]
  },
  {
   "cell_type": "markdown",
   "id": "09acef62",
   "metadata": {},
   "source": [
    "## Quantifions maintenant cet écart."
   ]
  },
  {
   "cell_type": "code",
   "execution_count": 84,
   "id": "96413c9c",
   "metadata": {},
   "outputs": [
    {
     "name": "stderr",
     "output_type": "stream",
     "text": [
      "C:\\Users\\HPG5~1\\AppData\\Local\\Temp/ipykernel_7584/87398547.py:1: SettingWithCopyWarning: \n",
      "A value is trying to be set on a copy of a slice from a DataFrame.\n",
      "Try using .loc[row_indexer,col_indexer] = value instead\n",
      "\n",
      "See the caveats in the documentation: https://pandas.pydata.org/pandas-docs/stable/user_guide/indexing.html#returning-a-view-versus-a-copy\n",
      "  df['STARS_DIFF'] = round(df['STARS'] - df['RATING'],2)\n"
     ]
    }
   ],
   "source": [
    "df['STARS_DIFF'] = round(df['STARS'] - df['RATING'],2)"
   ]
  },
  {
   "cell_type": "code",
   "execution_count": 85,
   "id": "85fe347a",
   "metadata": {},
   "outputs": [
    {
     "data": {
      "text/html": [
       "<div>\n",
       "<style scoped>\n",
       "    .dataframe tbody tr th:only-of-type {\n",
       "        vertical-align: middle;\n",
       "    }\n",
       "\n",
       "    .dataframe tbody tr th {\n",
       "        vertical-align: top;\n",
       "    }\n",
       "\n",
       "    .dataframe thead th {\n",
       "        text-align: right;\n",
       "    }\n",
       "</style>\n",
       "<table border=\"1\" class=\"dataframe\">\n",
       "  <thead>\n",
       "    <tr style=\"text-align: right;\">\n",
       "      <th></th>\n",
       "      <th>FILM</th>\n",
       "      <th>STARS</th>\n",
       "      <th>RATING</th>\n",
       "      <th>VOTES</th>\n",
       "      <th>YEAR</th>\n",
       "      <th>STARS_DIFF</th>\n",
       "    </tr>\n",
       "  </thead>\n",
       "  <tbody>\n",
       "    <tr>\n",
       "      <th>0</th>\n",
       "      <td>Fifty Shades of Grey (2015)</td>\n",
       "      <td>4.0</td>\n",
       "      <td>3.9</td>\n",
       "      <td>34846</td>\n",
       "      <td>2015</td>\n",
       "      <td>0.1</td>\n",
       "    </tr>\n",
       "    <tr>\n",
       "      <th>1</th>\n",
       "      <td>Jurassic World (2015)</td>\n",
       "      <td>4.5</td>\n",
       "      <td>4.5</td>\n",
       "      <td>34390</td>\n",
       "      <td>2015</td>\n",
       "      <td>0.0</td>\n",
       "    </tr>\n",
       "    <tr>\n",
       "      <th>2</th>\n",
       "      <td>American Sniper (2015)</td>\n",
       "      <td>5.0</td>\n",
       "      <td>4.8</td>\n",
       "      <td>34085</td>\n",
       "      <td>2015</td>\n",
       "      <td>0.2</td>\n",
       "    </tr>\n",
       "    <tr>\n",
       "      <th>3</th>\n",
       "      <td>Furious 7 (2015)</td>\n",
       "      <td>5.0</td>\n",
       "      <td>4.8</td>\n",
       "      <td>33538</td>\n",
       "      <td>2015</td>\n",
       "      <td>0.2</td>\n",
       "    </tr>\n",
       "    <tr>\n",
       "      <th>4</th>\n",
       "      <td>Inside Out (2015)</td>\n",
       "      <td>4.5</td>\n",
       "      <td>4.5</td>\n",
       "      <td>15749</td>\n",
       "      <td>2015</td>\n",
       "      <td>0.0</td>\n",
       "    </tr>\n",
       "  </tbody>\n",
       "</table>\n",
       "</div>"
      ],
      "text/plain": [
       "                          FILM  STARS  RATING  VOTES  YEAR  STARS_DIFF\n",
       "0  Fifty Shades of Grey (2015)    4.0     3.9  34846  2015         0.1\n",
       "1        Jurassic World (2015)    4.5     4.5  34390  2015         0.0\n",
       "2       American Sniper (2015)    5.0     4.8  34085  2015         0.2\n",
       "3             Furious 7 (2015)    5.0     4.8  33538  2015         0.2\n",
       "4            Inside Out (2015)    4.5     4.5  15749  2015         0.0"
      ]
     },
     "execution_count": 85,
     "metadata": {},
     "output_type": "execute_result"
    }
   ],
   "source": [
    "df.head()"
   ]
  },
  {
   "cell_type": "markdown",
   "id": "74a1d83f",
   "metadata": {},
   "source": [
    "## Diagramme de comptage (countplot) pour afficher le nombre de fois qu'une certaine différence se produit"
   ]
  },
  {
   "cell_type": "code",
   "execution_count": 86,
   "id": "25418580",
   "metadata": {},
   "outputs": [
    {
     "data": {
      "text/plain": [
       "<AxesSubplot:xlabel='STARS_DIFF', ylabel='count'>"
      ]
     },
     "execution_count": 86,
     "metadata": {},
     "output_type": "execute_result"
    },
    {
     "data": {
      "image/png": "[encoded data removed]",
      "text/plain": [
       "<Figure size 1008x360 with 1 Axes>"
      ]
     },
     "metadata": {
      "needs_background": "light"
     },
     "output_type": "display_data"
    }
   ],
   "source": [
    "plt.figure(figsize=(14,5))\n",
    "sns.countplot(data=df, x='STARS_DIFF', palette='magma')"
   ]
  },
  {
   "cell_type": "markdown",
   "id": "bbbe72be",
   "metadata": {},
   "source": [
    "## Nous pouvons voir sur le diagramme précédent qu'un film affichait une différence d'une étoile par rapport à sa véritable note ! Quel film a eu ce différentiel proche d'une étoile ?"
   ]
  },
  {
   "cell_type": "code",
   "execution_count": 87,
   "id": "40577bf9",
   "metadata": {},
   "outputs": [
    {
     "data": {
      "text/html": [
       "<div>\n",
       "<style scoped>\n",
       "    .dataframe tbody tr th:only-of-type {\n",
       "        vertical-align: middle;\n",
       "    }\n",
       "\n",
       "    .dataframe tbody tr th {\n",
       "        vertical-align: top;\n",
       "    }\n",
       "\n",
       "    .dataframe thead th {\n",
       "        text-align: right;\n",
       "    }\n",
       "</style>\n",
       "<table border=\"1\" class=\"dataframe\">\n",
       "  <thead>\n",
       "    <tr style=\"text-align: right;\">\n",
       "      <th></th>\n",
       "      <th>FILM</th>\n",
       "      <th>STARS_DIFF</th>\n",
       "    </tr>\n",
       "  </thead>\n",
       "  <tbody>\n",
       "    <tr>\n",
       "      <th>381</th>\n",
       "      <td>Turbo Kid (2015)</td>\n",
       "      <td>1.0</td>\n",
       "    </tr>\n",
       "  </tbody>\n",
       "</table>\n",
       "</div>"
      ],
      "text/plain": [
       "                 FILM  STARS_DIFF\n",
       "381  Turbo Kid (2015)         1.0"
      ]
     },
     "execution_count": 87,
     "metadata": {},
     "output_type": "execute_result"
    }
   ],
   "source": [
    "df.loc[df['STARS_DIFF'] == 1.0,['FILM','STARS_DIFF']]"
   ]
  },
  {
   "cell_type": "markdown",
   "id": "fef61894",
   "metadata": {},
   "source": [
    "# Partie 3 : Comparaison des évaluations de Fandango avec d'autres plateformes\n",
    "Comparons maintenant les scores de Fandango à d'autres sites d'évaluation de films et voyons comment ils se comparent.\n"
   ]
  },
  {
   "cell_type": "code",
   "execution_count": 88,
   "id": "37915db0",
   "metadata": {},
   "outputs": [],
   "source": [
    "all_sites = pd.read_csv('all_sites_scores.csv')"
   ]
  },
  {
   "cell_type": "code",
   "execution_count": 90,
   "id": "6433c147",
   "metadata": {},
   "outputs": [
    {
     "data": {
      "text/html": [
       "<div>\n",
       "<style scoped>\n",
       "    .dataframe tbody tr th:only-of-type {\n",
       "        vertical-align: middle;\n",
       "    }\n",
       "\n",
       "    .dataframe tbody tr th {\n",
       "        vertical-align: top;\n",
       "    }\n",
       "\n",
       "    .dataframe thead th {\n",
       "        text-align: right;\n",
       "    }\n",
       "</style>\n",
       "<table border=\"1\" class=\"dataframe\">\n",
       "  <thead>\n",
       "    <tr style=\"text-align: right;\">\n",
       "      <th></th>\n",
       "      <th>FILM</th>\n",
       "      <th>RottenTomatoes</th>\n",
       "      <th>RottenTomatoes_User</th>\n",
       "      <th>Metacritic</th>\n",
       "      <th>Metacritic_User</th>\n",
       "      <th>IMDB</th>\n",
       "      <th>Metacritic_user_vote_count</th>\n",
       "      <th>IMDB_user_vote_count</th>\n",
       "    </tr>\n",
       "  </thead>\n",
       "  <tbody>\n",
       "    <tr>\n",
       "      <th>0</th>\n",
       "      <td>Avengers: Age of Ultron (2015)</td>\n",
       "      <td>74</td>\n",
       "      <td>86</td>\n",
       "      <td>66</td>\n",
       "      <td>7.1</td>\n",
       "      <td>7.8</td>\n",
       "      <td>1330</td>\n",
       "      <td>271107</td>\n",
       "    </tr>\n",
       "    <tr>\n",
       "      <th>1</th>\n",
       "      <td>Cinderella (2015)</td>\n",
       "      <td>85</td>\n",
       "      <td>80</td>\n",
       "      <td>67</td>\n",
       "      <td>7.5</td>\n",
       "      <td>7.1</td>\n",
       "      <td>249</td>\n",
       "      <td>65709</td>\n",
       "    </tr>\n",
       "    <tr>\n",
       "      <th>2</th>\n",
       "      <td>Ant-Man (2015)</td>\n",
       "      <td>80</td>\n",
       "      <td>90</td>\n",
       "      <td>64</td>\n",
       "      <td>8.1</td>\n",
       "      <td>7.8</td>\n",
       "      <td>627</td>\n",
       "      <td>103660</td>\n",
       "    </tr>\n",
       "    <tr>\n",
       "      <th>3</th>\n",
       "      <td>Do You Believe? (2015)</td>\n",
       "      <td>18</td>\n",
       "      <td>84</td>\n",
       "      <td>22</td>\n",
       "      <td>4.7</td>\n",
       "      <td>5.4</td>\n",
       "      <td>31</td>\n",
       "      <td>3136</td>\n",
       "    </tr>\n",
       "    <tr>\n",
       "      <th>4</th>\n",
       "      <td>Hot Tub Time Machine 2 (2015)</td>\n",
       "      <td>14</td>\n",
       "      <td>28</td>\n",
       "      <td>29</td>\n",
       "      <td>3.4</td>\n",
       "      <td>5.1</td>\n",
       "      <td>88</td>\n",
       "      <td>19560</td>\n",
       "    </tr>\n",
       "  </tbody>\n",
       "</table>\n",
       "</div>"
      ],
      "text/plain": [
       "                             FILM  RottenTomatoes  RottenTomatoes_User  \\\n",
       "0  Avengers: Age of Ultron (2015)              74                   86   \n",
       "1               Cinderella (2015)              85                   80   \n",
       "2                  Ant-Man (2015)              80                   90   \n",
       "3          Do You Believe? (2015)              18                   84   \n",
       "4   Hot Tub Time Machine 2 (2015)              14                   28   \n",
       "\n",
       "   Metacritic  Metacritic_User  IMDB  Metacritic_user_vote_count  \\\n",
       "0          66              7.1   7.8                        1330   \n",
       "1          67              7.5   7.1                         249   \n",
       "2          64              8.1   7.8                         627   \n",
       "3          22              4.7   5.4                          31   \n",
       "4          29              3.4   5.1                          88   \n",
       "\n",
       "   IMDB_user_vote_count  \n",
       "0                271107  \n",
       "1                 65709  \n",
       "2                103660  \n",
       "3                  3136  \n",
       "4                 19560  "
      ]
     },
     "execution_count": 90,
     "metadata": {},
     "output_type": "execute_result"
    }
   ],
   "source": [
    "all_sites.head()"
   ]
  },
  {
   "cell_type": "code",
   "execution_count": 91,
   "id": "0d13599e",
   "metadata": {},
   "outputs": [
    {
     "name": "stdout",
     "output_type": "stream",
     "text": [
      "<class 'pandas.core.frame.DataFrame'>\n",
      "RangeIndex: 146 entries, 0 to 145\n",
      "Data columns (total 8 columns):\n",
      " #   Column                      Non-Null Count  Dtype  \n",
      "---  ------                      --------------  -----  \n",
      " 0   FILM                        146 non-null    object \n",
      " 1   RottenTomatoes              146 non-null    int64  \n",
      " 2   RottenTomatoes_User         146 non-null    int64  \n",
      " 3   Metacritic                  146 non-null    int64  \n",
      " 4   Metacritic_User             146 non-null    float64\n",
      " 5   IMDB                        146 non-null    float64\n",
      " 6   Metacritic_user_vote_count  146 non-null    int64  \n",
      " 7   IMDB_user_vote_count        146 non-null    int64  \n",
      "dtypes: float64(2), int64(5), object(1)\n",
      "memory usage: 9.2+ KB\n"
     ]
    }
   ],
   "source": [
    "all_sites.info()"
   ]
  },
  {
   "cell_type": "code",
   "execution_count": 92,
   "id": "35b55c38",
   "metadata": {},
   "outputs": [
    {
     "data": {
      "text/html": [
       "<div>\n",
       "<style scoped>\n",
       "    .dataframe tbody tr th:only-of-type {\n",
       "        vertical-align: middle;\n",
       "    }\n",
       "\n",
       "    .dataframe tbody tr th {\n",
       "        vertical-align: top;\n",
       "    }\n",
       "\n",
       "    .dataframe thead th {\n",
       "        text-align: right;\n",
       "    }\n",
       "</style>\n",
       "<table border=\"1\" class=\"dataframe\">\n",
       "  <thead>\n",
       "    <tr style=\"text-align: right;\">\n",
       "      <th></th>\n",
       "      <th>RottenTomatoes</th>\n",
       "      <th>RottenTomatoes_User</th>\n",
       "      <th>Metacritic</th>\n",
       "      <th>Metacritic_User</th>\n",
       "      <th>IMDB</th>\n",
       "      <th>Metacritic_user_vote_count</th>\n",
       "      <th>IMDB_user_vote_count</th>\n",
       "    </tr>\n",
       "  </thead>\n",
       "  <tbody>\n",
       "    <tr>\n",
       "      <th>count</th>\n",
       "      <td>146.000000</td>\n",
       "      <td>146.000000</td>\n",
       "      <td>146.000000</td>\n",
       "      <td>146.000000</td>\n",
       "      <td>146.000000</td>\n",
       "      <td>146.000000</td>\n",
       "      <td>146.000000</td>\n",
       "    </tr>\n",
       "    <tr>\n",
       "      <th>mean</th>\n",
       "      <td>60.849315</td>\n",
       "      <td>63.876712</td>\n",
       "      <td>58.808219</td>\n",
       "      <td>6.519178</td>\n",
       "      <td>6.736986</td>\n",
       "      <td>185.705479</td>\n",
       "      <td>42846.205479</td>\n",
       "    </tr>\n",
       "    <tr>\n",
       "      <th>std</th>\n",
       "      <td>30.168799</td>\n",
       "      <td>20.024430</td>\n",
       "      <td>19.517389</td>\n",
       "      <td>1.510712</td>\n",
       "      <td>0.958736</td>\n",
       "      <td>316.606515</td>\n",
       "      <td>67406.509171</td>\n",
       "    </tr>\n",
       "    <tr>\n",
       "      <th>min</th>\n",
       "      <td>5.000000</td>\n",
       "      <td>20.000000</td>\n",
       "      <td>13.000000</td>\n",
       "      <td>2.400000</td>\n",
       "      <td>4.000000</td>\n",
       "      <td>4.000000</td>\n",
       "      <td>243.000000</td>\n",
       "    </tr>\n",
       "    <tr>\n",
       "      <th>25%</th>\n",
       "      <td>31.250000</td>\n",
       "      <td>50.000000</td>\n",
       "      <td>43.500000</td>\n",
       "      <td>5.700000</td>\n",
       "      <td>6.300000</td>\n",
       "      <td>33.250000</td>\n",
       "      <td>5627.000000</td>\n",
       "    </tr>\n",
       "    <tr>\n",
       "      <th>50%</th>\n",
       "      <td>63.500000</td>\n",
       "      <td>66.500000</td>\n",
       "      <td>59.000000</td>\n",
       "      <td>6.850000</td>\n",
       "      <td>6.900000</td>\n",
       "      <td>72.500000</td>\n",
       "      <td>19103.000000</td>\n",
       "    </tr>\n",
       "    <tr>\n",
       "      <th>75%</th>\n",
       "      <td>89.000000</td>\n",
       "      <td>81.000000</td>\n",
       "      <td>75.000000</td>\n",
       "      <td>7.500000</td>\n",
       "      <td>7.400000</td>\n",
       "      <td>168.500000</td>\n",
       "      <td>45185.750000</td>\n",
       "    </tr>\n",
       "    <tr>\n",
       "      <th>max</th>\n",
       "      <td>100.000000</td>\n",
       "      <td>94.000000</td>\n",
       "      <td>94.000000</td>\n",
       "      <td>9.600000</td>\n",
       "      <td>8.600000</td>\n",
       "      <td>2375.000000</td>\n",
       "      <td>334164.000000</td>\n",
       "    </tr>\n",
       "  </tbody>\n",
       "</table>\n",
       "</div>"
      ],
      "text/plain": [
       "       RottenTomatoes  RottenTomatoes_User  Metacritic  Metacritic_User  \\\n",
       "count      146.000000           146.000000  146.000000       146.000000   \n",
       "mean        60.849315            63.876712   58.808219         6.519178   \n",
       "std         30.168799            20.024430   19.517389         1.510712   \n",
       "min          5.000000            20.000000   13.000000         2.400000   \n",
       "25%         31.250000            50.000000   43.500000         5.700000   \n",
       "50%         63.500000            66.500000   59.000000         6.850000   \n",
       "75%         89.000000            81.000000   75.000000         7.500000   \n",
       "max        100.000000            94.000000   94.000000         9.600000   \n",
       "\n",
       "             IMDB  Metacritic_user_vote_count  IMDB_user_vote_count  \n",
       "count  146.000000                  146.000000            146.000000  \n",
       "mean     6.736986                  185.705479          42846.205479  \n",
       "std      0.958736                  316.606515          67406.509171  \n",
       "min      4.000000                    4.000000            243.000000  \n",
       "25%      6.300000                   33.250000           5627.000000  \n",
       "50%      6.900000                   72.500000          19103.000000  \n",
       "75%      7.400000                  168.500000          45185.750000  \n",
       "max      8.600000                 2375.000000         334164.000000  "
      ]
     },
     "execution_count": 92,
     "metadata": {},
     "output_type": "execute_result"
    }
   ],
   "source": [
    "all_sites.describe()"
   ]
  },
  {
   "cell_type": "markdown",
   "id": "7a3be0c6",
   "metadata": {},
   "source": [
    "### Rotten Tomatoes\n",
    "\n",
    "Jetons d'abord un coup d'œil à Rotten Tomatoes. RT a deux séries de critiques, leurs critiques (évaluations publiées par les critiques officielles) et les avis des utilisateurs."
   ]
  },
  {
   "cell_type": "code",
   "execution_count": 99,
   "id": "240f3b8b",
   "metadata": {},
   "outputs": [
    {
     "data": {
      "text/plain": [
       "<AxesSubplot:xlabel='RottenTomatoes', ylabel='RottenTomatoes_User'>"
      ]
     },
     "execution_count": 99,
     "metadata": {},
     "output_type": "execute_result"
    },
    {
     "data": {
      "image/png": "[encoded data removed]",
      "text/plain": [
       "<Figure size 1152x432 with 1 Axes>"
      ]
     },
     "metadata": {
      "needs_background": "light"
     },
     "output_type": "display_data"
    }
   ],
   "source": [
    "plt.figure(figsize=(16,6))\n",
    "sns.scatterplot(x='RottenTomatoes', y='RottenTomatoes_User', data=all_sites)"
   ]
  },
  {
   "cell_type": "markdown",
   "id": "f093ada1",
   "metadata": {},
   "source": [
    "Quantifions cette différence en comparant les notes des critiques et celles des utilisateurs RT. Nous allons calculer cela avec RottenTomatoes-RottenTomatoes_User.\n",
    "\n",
    "Remarque : Rotten_Diff est ici RottenTomatoes (notes des critiques de RT) - RottenTomatoes_User (notes des utilisateurs de RT). Les valeurs proches de 0 signifient donc un accord entre les critiques et les utilisateurs. Des valeurs positives plus élevées signifient que les critiques ont obtenu une note beaucoup plus élevée que les utilisateurs. Des valeurs négatives plus élevées signifient que les utilisateurs ont obtenu une note beaucoup plus élevée que les critiques"
   ]
  },
  {
   "cell_type": "code",
   "execution_count": 135,
   "id": "89d92c54",
   "metadata": {},
   "outputs": [
    {
     "data": {
      "text/html": [
       "<div>\n",
       "<style scoped>\n",
       "    .dataframe tbody tr th:only-of-type {\n",
       "        vertical-align: middle;\n",
       "    }\n",
       "\n",
       "    .dataframe tbody tr th {\n",
       "        vertical-align: top;\n",
       "    }\n",
       "\n",
       "    .dataframe thead th {\n",
       "        text-align: right;\n",
       "    }\n",
       "</style>\n",
       "<table border=\"1\" class=\"dataframe\">\n",
       "  <thead>\n",
       "    <tr style=\"text-align: right;\">\n",
       "      <th></th>\n",
       "      <th>FILM</th>\n",
       "      <th>RottenTomatoes</th>\n",
       "      <th>RottenTomatoes_User</th>\n",
       "      <th>Metacritic</th>\n",
       "      <th>Metacritic_User</th>\n",
       "      <th>IMDB</th>\n",
       "      <th>Metacritic_user_vote_count</th>\n",
       "      <th>IMDB_user_vote_count</th>\n",
       "      <th>Rotten_Diff</th>\n",
       "    </tr>\n",
       "  </thead>\n",
       "  <tbody>\n",
       "    <tr>\n",
       "      <th>0</th>\n",
       "      <td>Avengers: Age of Ultron (2015)</td>\n",
       "      <td>74</td>\n",
       "      <td>86</td>\n",
       "      <td>66</td>\n",
       "      <td>7.1</td>\n",
       "      <td>7.8</td>\n",
       "      <td>1330</td>\n",
       "      <td>271107</td>\n",
       "      <td>-12</td>\n",
       "    </tr>\n",
       "    <tr>\n",
       "      <th>1</th>\n",
       "      <td>Cinderella (2015)</td>\n",
       "      <td>85</td>\n",
       "      <td>80</td>\n",
       "      <td>67</td>\n",
       "      <td>7.5</td>\n",
       "      <td>7.1</td>\n",
       "      <td>249</td>\n",
       "      <td>65709</td>\n",
       "      <td>5</td>\n",
       "    </tr>\n",
       "    <tr>\n",
       "      <th>2</th>\n",
       "      <td>Ant-Man (2015)</td>\n",
       "      <td>80</td>\n",
       "      <td>90</td>\n",
       "      <td>64</td>\n",
       "      <td>8.1</td>\n",
       "      <td>7.8</td>\n",
       "      <td>627</td>\n",
       "      <td>103660</td>\n",
       "      <td>-10</td>\n",
       "    </tr>\n",
       "    <tr>\n",
       "      <th>3</th>\n",
       "      <td>Do You Believe? (2015)</td>\n",
       "      <td>18</td>\n",
       "      <td>84</td>\n",
       "      <td>22</td>\n",
       "      <td>4.7</td>\n",
       "      <td>5.4</td>\n",
       "      <td>31</td>\n",
       "      <td>3136</td>\n",
       "      <td>-66</td>\n",
       "    </tr>\n",
       "    <tr>\n",
       "      <th>4</th>\n",
       "      <td>Hot Tub Time Machine 2 (2015)</td>\n",
       "      <td>14</td>\n",
       "      <td>28</td>\n",
       "      <td>29</td>\n",
       "      <td>3.4</td>\n",
       "      <td>5.1</td>\n",
       "      <td>88</td>\n",
       "      <td>19560</td>\n",
       "      <td>-14</td>\n",
       "    </tr>\n",
       "  </tbody>\n",
       "</table>\n",
       "</div>"
      ],
      "text/plain": [
       "                             FILM  RottenTomatoes  RottenTomatoes_User  \\\n",
       "0  Avengers: Age of Ultron (2015)              74                   86   \n",
       "1               Cinderella (2015)              85                   80   \n",
       "2                  Ant-Man (2015)              80                   90   \n",
       "3          Do You Believe? (2015)              18                   84   \n",
       "4   Hot Tub Time Machine 2 (2015)              14                   28   \n",
       "\n",
       "   Metacritic  Metacritic_User  IMDB  Metacritic_user_vote_count  \\\n",
       "0          66              7.1   7.8                        1330   \n",
       "1          67              7.5   7.1                         249   \n",
       "2          64              8.1   7.8                         627   \n",
       "3          22              4.7   5.4                          31   \n",
       "4          29              3.4   5.1                          88   \n",
       "\n",
       "   IMDB_user_vote_count  Rotten_Diff  \n",
       "0                271107          -12  \n",
       "1                 65709            5  \n",
       "2                103660          -10  \n",
       "3                  3136          -66  \n",
       "4                 19560          -14  "
      ]
     },
     "execution_count": 135,
     "metadata": {},
     "output_type": "execute_result"
    }
   ],
   "source": [
    "all_sites['Rotten_Diff'] = round(all_sites['RottenTomatoes'] - all_sites['RottenTomatoes_User'],3)\n",
    "all_sites.head()"
   ]
  },
  {
   "cell_type": "markdown",
   "id": "0bfd4009",
   "metadata": {},
   "source": [
    "Comparons maintenant la différence moyenne globale. Puisque nous avons affaire à des différences qui peuvent être négatives ou positives, prenez d'abord la valeur absolue de toutes les différences, puis prenez la moyenne. Cela retournera la moyenne des valeurs absolues de la différence entre la note des critiques et la note des utilisateurs."
   ]
  },
  {
   "cell_type": "markdown",
   "id": "3e87fec1",
   "metadata": {},
   "source": [
    "## La différence absolue moyenne entre les notes RT et les notes des utilisateurs RT comme décrit ci-dessus."
   ]
  },
  {
   "cell_type": "code",
   "execution_count": 141,
   "id": "69e3a097",
   "metadata": {},
   "outputs": [
    {
     "data": {
      "text/plain": [
       "15.095890410958905"
      ]
     },
     "execution_count": 141,
     "metadata": {},
     "output_type": "execute_result"
    }
   ],
   "source": [
    "all_sites['Rotten_Diff'].apply(lambda x:abs(x)).mean()"
   ]
  },
  {
   "cell_type": "markdown",
   "id": "28c078e4",
   "metadata": {},
   "source": [
    "##  La distribution des différences entre la note des critiques RT et la note des utilisateurs RT. "
   ]
  },
  {
   "cell_type": "code",
   "execution_count": 156,
   "id": "6b677ce0",
   "metadata": {},
   "outputs": [
    {
     "data": {
      "text/plain": [
       "<seaborn.axisgrid.FacetGrid at 0x1b280020ee0>"
      ]
     },
     "execution_count": 156,
     "metadata": {},
     "output_type": "execute_result"
    },
    {
     "data": {
      "image/png": "[encoded data removed]",
      "text/plain": [
       "<Figure size 864x432 with 1 Axes>"
      ]
     },
     "metadata": {
      "needs_background": "light"
     },
     "output_type": "display_data"
    }
   ],
   "source": [
    "\n",
    "sns.displot( x='Rotten_Diff',data=all_sites, kde=True, height=6, aspect=2, bins=25)"
   ]
  },
  {
   "cell_type": "markdown",
   "id": "00967c73",
   "metadata": {},
   "source": [
    " ## une distribution montrant la *valeur absolue* de la différence des notes entre les critiques et les utilisateurs sur Rotten Tomatoes"
   ]
  },
  {
   "cell_type": "code",
   "execution_count": 157,
   "id": "9e647368",
   "metadata": {},
   "outputs": [
    {
     "data": {
      "text/plain": [
       "<seaborn.axisgrid.FacetGrid at 0x1b2800b5b50>"
      ]
     },
     "execution_count": 157,
     "metadata": {},
     "output_type": "execute_result"
    },
    {
     "data": {
      "image/png": "[encoded data removed]",
      "text/plain": [
       "<Figure size 864x432 with 1 Axes>"
      ]
     },
     "metadata": {
      "needs_background": "light"
     },
     "output_type": "display_data"
    }
   ],
   "source": [
    "\n",
    "sns.displot( x=all_sites['Rotten_Diff'].apply(lambda x:abs(x)),data=all_sites, kde=True, height=6, aspect=2, bins=25)"
   ]
  },
  {
   "cell_type": "markdown",
   "id": "fc5da0d6",
   "metadata": {},
   "source": [
    "## Voyons quels films sont à l'origine des différences les plus importantes.\n",
    "le top 5 des films qui ont obtenu une note moyenne des utilisateurs supérieure à celle des critiques "
   ]
  },
  {
   "cell_type": "code",
   "execution_count": 182,
   "id": "1b904fb2",
   "metadata": {},
   "outputs": [
    {
     "data": {
      "text/html": [
       "<div>\n",
       "<style scoped>\n",
       "    .dataframe tbody tr th:only-of-type {\n",
       "        vertical-align: middle;\n",
       "    }\n",
       "\n",
       "    .dataframe tbody tr th {\n",
       "        vertical-align: top;\n",
       "    }\n",
       "\n",
       "    .dataframe thead th {\n",
       "        text-align: right;\n",
       "    }\n",
       "</style>\n",
       "<table border=\"1\" class=\"dataframe\">\n",
       "  <thead>\n",
       "    <tr style=\"text-align: right;\">\n",
       "      <th></th>\n",
       "      <th>FILM</th>\n",
       "      <th>Rotten_Diff</th>\n",
       "    </tr>\n",
       "  </thead>\n",
       "  <tbody>\n",
       "    <tr>\n",
       "      <th>3</th>\n",
       "      <td>Do You Believe? (2015)</td>\n",
       "      <td>-66</td>\n",
       "    </tr>\n",
       "    <tr>\n",
       "      <th>85</th>\n",
       "      <td>Little Boy (2015)</td>\n",
       "      <td>-61</td>\n",
       "    </tr>\n",
       "    <tr>\n",
       "      <th>134</th>\n",
       "      <td>The Longest Ride (2015)</td>\n",
       "      <td>-42</td>\n",
       "    </tr>\n",
       "    <tr>\n",
       "      <th>105</th>\n",
       "      <td>Hitman: Agent 47 (2015)</td>\n",
       "      <td>-42</td>\n",
       "    </tr>\n",
       "    <tr>\n",
       "      <th>125</th>\n",
       "      <td>The Wedding Ringer (2015)</td>\n",
       "      <td>-39</td>\n",
       "    </tr>\n",
       "  </tbody>\n",
       "</table>\n",
       "</div>"
      ],
      "text/plain": [
       "                          FILM  Rotten_Diff\n",
       "3       Do You Believe? (2015)          -66\n",
       "85           Little Boy (2015)          -61\n",
       "134    The Longest Ride (2015)          -42\n",
       "105    Hitman: Agent 47 (2015)          -42\n",
       "125  The Wedding Ringer (2015)          -39"
      ]
     },
     "execution_count": 182,
     "metadata": {},
     "output_type": "execute_result"
    }
   ],
   "source": [
    "all_sites.sort_values(by=['Rotten_Diff'], ascending=True).head(5).loc[:,['FILM','Rotten_Diff']]"
   ]
  },
  {
   "cell_type": "markdown",
   "id": "86b5ab6e",
   "metadata": {},
   "source": [
    "maintenant le top 5 des films qui ont obtenu une note moyenne des critiques supérieure à celle des utilisateurs.**"
   ]
  },
  {
   "cell_type": "code",
   "execution_count": 183,
   "id": "6ef5aeab",
   "metadata": {},
   "outputs": [
    {
     "data": {
      "text/html": [
       "<div>\n",
       "<style scoped>\n",
       "    .dataframe tbody tr th:only-of-type {\n",
       "        vertical-align: middle;\n",
       "    }\n",
       "\n",
       "    .dataframe tbody tr th {\n",
       "        vertical-align: top;\n",
       "    }\n",
       "\n",
       "    .dataframe thead th {\n",
       "        text-align: right;\n",
       "    }\n",
       "</style>\n",
       "<table border=\"1\" class=\"dataframe\">\n",
       "  <thead>\n",
       "    <tr style=\"text-align: right;\">\n",
       "      <th></th>\n",
       "      <th>FILM</th>\n",
       "      <th>Rotten_Diff</th>\n",
       "    </tr>\n",
       "  </thead>\n",
       "  <tbody>\n",
       "    <tr>\n",
       "      <th>69</th>\n",
       "      <td>Mr. Turner (2014)</td>\n",
       "      <td>42</td>\n",
       "    </tr>\n",
       "    <tr>\n",
       "      <th>112</th>\n",
       "      <td>It Follows (2015)</td>\n",
       "      <td>31</td>\n",
       "    </tr>\n",
       "    <tr>\n",
       "      <th>115</th>\n",
       "      <td>While We're Young (2015)</td>\n",
       "      <td>31</td>\n",
       "    </tr>\n",
       "    <tr>\n",
       "      <th>145</th>\n",
       "      <td>Kumiko, The Treasure Hunter (2015)</td>\n",
       "      <td>24</td>\n",
       "    </tr>\n",
       "    <tr>\n",
       "      <th>37</th>\n",
       "      <td>Welcome to Me (2015)</td>\n",
       "      <td>24</td>\n",
       "    </tr>\n",
       "  </tbody>\n",
       "</table>\n",
       "</div>"
      ],
      "text/plain": [
       "                                   FILM  Rotten_Diff\n",
       "69                    Mr. Turner (2014)           42\n",
       "112                   It Follows (2015)           31\n",
       "115            While We're Young (2015)           31\n",
       "145  Kumiko, The Treasure Hunter (2015)           24\n",
       "37                 Welcome to Me (2015)           24"
      ]
     },
     "execution_count": 183,
     "metadata": {},
     "output_type": "execute_result"
    }
   ],
   "source": [
    "all_sites.sort_values(by=['Rotten_Diff'], ascending=False).head(5).loc[:,['FILM','Rotten_Diff']]"
   ]
  },
  {
   "cell_type": "markdown",
   "id": "91318ca5",
   "metadata": {},
   "source": [
    "### MetaCritic\n",
    "\n",
    "Regardons maintenant les notes de MetaCritic. MetaCritic affiche également une note moyenne des utilisateurs par rapport à leur note officielle affichée."
   ]
  },
  {
   "cell_type": "code",
   "execution_count": 184,
   "id": "effad4cb",
   "metadata": {},
   "outputs": [
    {
     "data": {
      "text/plain": [
       "<AxesSubplot:xlabel='Metacritic', ylabel='Metacritic_User'>"
      ]
     },
     "execution_count": 184,
     "metadata": {},
     "output_type": "execute_result"
    },
    {
     "data": {
      "image/png": "[encoded data removed]",
      "text/plain": [
       "<Figure size 1008x432 with 1 Axes>"
      ]
     },
     "metadata": {
      "needs_background": "light"
     },
     "output_type": "display_data"
    }
   ],
   "source": [
    "plt.figure(figsize=(14,6))\n",
    "sns.scatterplot(x='Metacritic', y='Metacritic_User',data=all_sites)"
   ]
  },
  {
   "cell_type": "markdown",
   "id": "7e470ae3",
   "metadata": {},
   "source": [
    "### IMDb\n",
    "\n",
    "Enfin, explorons IMDb. Notez que Metacritic et IMDb offrent le nombre de votes. Analysons les films les plus populaires.\n",
    "\n"
   ]
  },
  {
   "cell_type": "code",
   "execution_count": 186,
   "id": "b8747f78",
   "metadata": {},
   "outputs": [
    {
     "data": {
      "text/html": [
       "<div>\n",
       "<style scoped>\n",
       "    .dataframe tbody tr th:only-of-type {\n",
       "        vertical-align: middle;\n",
       "    }\n",
       "\n",
       "    .dataframe tbody tr th {\n",
       "        vertical-align: top;\n",
       "    }\n",
       "\n",
       "    .dataframe thead th {\n",
       "        text-align: right;\n",
       "    }\n",
       "</style>\n",
       "<table border=\"1\" class=\"dataframe\">\n",
       "  <thead>\n",
       "    <tr style=\"text-align: right;\">\n",
       "      <th></th>\n",
       "      <th>FILM</th>\n",
       "      <th>RottenTomatoes</th>\n",
       "      <th>RottenTomatoes_User</th>\n",
       "      <th>Metacritic</th>\n",
       "      <th>Metacritic_User</th>\n",
       "      <th>IMDB</th>\n",
       "      <th>Metacritic_user_vote_count</th>\n",
       "      <th>IMDB_user_vote_count</th>\n",
       "      <th>Rotten_Diff</th>\n",
       "    </tr>\n",
       "  </thead>\n",
       "  <tbody>\n",
       "    <tr>\n",
       "      <th>0</th>\n",
       "      <td>Avengers: Age of Ultron (2015)</td>\n",
       "      <td>74</td>\n",
       "      <td>86</td>\n",
       "      <td>66</td>\n",
       "      <td>7.1</td>\n",
       "      <td>7.8</td>\n",
       "      <td>1330</td>\n",
       "      <td>271107</td>\n",
       "      <td>-12</td>\n",
       "    </tr>\n",
       "    <tr>\n",
       "      <th>1</th>\n",
       "      <td>Cinderella (2015)</td>\n",
       "      <td>85</td>\n",
       "      <td>80</td>\n",
       "      <td>67</td>\n",
       "      <td>7.5</td>\n",
       "      <td>7.1</td>\n",
       "      <td>249</td>\n",
       "      <td>65709</td>\n",
       "      <td>5</td>\n",
       "    </tr>\n",
       "    <tr>\n",
       "      <th>2</th>\n",
       "      <td>Ant-Man (2015)</td>\n",
       "      <td>80</td>\n",
       "      <td>90</td>\n",
       "      <td>64</td>\n",
       "      <td>8.1</td>\n",
       "      <td>7.8</td>\n",
       "      <td>627</td>\n",
       "      <td>103660</td>\n",
       "      <td>-10</td>\n",
       "    </tr>\n",
       "  </tbody>\n",
       "</table>\n",
       "</div>"
      ],
      "text/plain": [
       "                             FILM  RottenTomatoes  RottenTomatoes_User  \\\n",
       "0  Avengers: Age of Ultron (2015)              74                   86   \n",
       "1               Cinderella (2015)              85                   80   \n",
       "2                  Ant-Man (2015)              80                   90   \n",
       "\n",
       "   Metacritic  Metacritic_User  IMDB  Metacritic_user_vote_count  \\\n",
       "0          66              7.1   7.8                        1330   \n",
       "1          67              7.5   7.1                         249   \n",
       "2          64              8.1   7.8                         627   \n",
       "\n",
       "   IMDB_user_vote_count  Rotten_Diff  \n",
       "0                271107          -12  \n",
       "1                 65709            5  \n",
       "2                103660          -10  "
      ]
     },
     "execution_count": 186,
     "metadata": {},
     "output_type": "execute_result"
    }
   ],
   "source": [
    "all_sites.head(3)"
   ]
  },
  {
   "cell_type": "code",
   "execution_count": 187,
   "id": "6a0423b8",
   "metadata": {},
   "outputs": [
    {
     "data": {
      "text/plain": [
       "<AxesSubplot:xlabel='Metacritic_user_vote_count', ylabel='IMDB_user_vote_count'>"
      ]
     },
     "execution_count": 187,
     "metadata": {},
     "output_type": "execute_result"
    },
    {
     "data": {
      "image/png": "[encoded data removed]",
      "text/plain": [
       "<Figure size 1152x360 with 1 Axes>"
      ]
     },
     "metadata": {
      "needs_background": "light"
     },
     "output_type": "display_data"
    }
   ],
   "source": [
    "plt.figure(figsize=(16,5))\n",
    "sns.scatterplot(x='Metacritic_user_vote_count', y='IMDB_user_vote_count', data=all_sites)"
   ]
  },
  {
   "cell_type": "markdown",
   "id": "eb205d69",
   "metadata": {},
   "source": [
    "## Notez qu'il y a deux valeurs aberrantes (outliers) ici. Le film ayant obtenu le plus grand nombre de votes sur IMDb n'a qu'environ 500 notes MetaCritic. Quel est ce film ?**\n"
   ]
  },
  {
   "cell_type": "code",
   "execution_count": 192,
   "id": "489cfcf8",
   "metadata": {},
   "outputs": [
    {
     "data": {
      "text/html": [
       "<div>\n",
       "<style scoped>\n",
       "    .dataframe tbody tr th:only-of-type {\n",
       "        vertical-align: middle;\n",
       "    }\n",
       "\n",
       "    .dataframe tbody tr th {\n",
       "        vertical-align: top;\n",
       "    }\n",
       "\n",
       "    .dataframe thead th {\n",
       "        text-align: right;\n",
       "    }\n",
       "</style>\n",
       "<table border=\"1\" class=\"dataframe\">\n",
       "  <thead>\n",
       "    <tr style=\"text-align: right;\">\n",
       "      <th></th>\n",
       "      <th>FILM</th>\n",
       "      <th>RottenTomatoes</th>\n",
       "      <th>RottenTomatoes_User</th>\n",
       "      <th>Metacritic</th>\n",
       "      <th>Metacritic_User</th>\n",
       "      <th>IMDB</th>\n",
       "      <th>Metacritic_user_vote_count</th>\n",
       "      <th>IMDB_user_vote_count</th>\n",
       "      <th>Rotten_Diff</th>\n",
       "    </tr>\n",
       "  </thead>\n",
       "  <tbody>\n",
       "    <tr>\n",
       "      <th>14</th>\n",
       "      <td>The Imitation Game (2014)</td>\n",
       "      <td>90</td>\n",
       "      <td>92</td>\n",
       "      <td>73</td>\n",
       "      <td>8.2</td>\n",
       "      <td>8.1</td>\n",
       "      <td>566</td>\n",
       "      <td>334164</td>\n",
       "      <td>-2</td>\n",
       "    </tr>\n",
       "  </tbody>\n",
       "</table>\n",
       "</div>"
      ],
      "text/plain": [
       "                         FILM  RottenTomatoes  RottenTomatoes_User  \\\n",
       "14  The Imitation Game (2014)              90                   92   \n",
       "\n",
       "    Metacritic  Metacritic_User  IMDB  Metacritic_user_vote_count  \\\n",
       "14          73              8.2   8.1                         566   \n",
       "\n",
       "    IMDB_user_vote_count  Rotten_Diff  \n",
       "14                334164           -2  "
      ]
     },
     "execution_count": 192,
     "metadata": {},
     "output_type": "execute_result"
    }
   ],
   "source": [
    "all_sites.sort_values(by=['IMDB_user_vote_count'], ascending=False).head(1)"
   ]
  },
  {
   "cell_type": "markdown",
   "id": "299cd946",
   "metadata": {},
   "source": [
    " ## Quel film a le plus grand nombre de votes des utilisateurs MetaCritic ?"
   ]
  },
  {
   "cell_type": "code",
   "execution_count": 193,
   "id": "e51e9f3a",
   "metadata": {},
   "outputs": [
    {
     "data": {
      "text/html": [
       "<div>\n",
       "<style scoped>\n",
       "    .dataframe tbody tr th:only-of-type {\n",
       "        vertical-align: middle;\n",
       "    }\n",
       "\n",
       "    .dataframe tbody tr th {\n",
       "        vertical-align: top;\n",
       "    }\n",
       "\n",
       "    .dataframe thead th {\n",
       "        text-align: right;\n",
       "    }\n",
       "</style>\n",
       "<table border=\"1\" class=\"dataframe\">\n",
       "  <thead>\n",
       "    <tr style=\"text-align: right;\">\n",
       "      <th></th>\n",
       "      <th>FILM</th>\n",
       "      <th>RottenTomatoes</th>\n",
       "      <th>RottenTomatoes_User</th>\n",
       "      <th>Metacritic</th>\n",
       "      <th>Metacritic_User</th>\n",
       "      <th>IMDB</th>\n",
       "      <th>Metacritic_user_vote_count</th>\n",
       "      <th>IMDB_user_vote_count</th>\n",
       "      <th>Rotten_Diff</th>\n",
       "    </tr>\n",
       "  </thead>\n",
       "  <tbody>\n",
       "    <tr>\n",
       "      <th>88</th>\n",
       "      <td>Mad Max: Fury Road (2015)</td>\n",
       "      <td>97</td>\n",
       "      <td>88</td>\n",
       "      <td>89</td>\n",
       "      <td>8.7</td>\n",
       "      <td>8.3</td>\n",
       "      <td>2375</td>\n",
       "      <td>292023</td>\n",
       "      <td>9</td>\n",
       "    </tr>\n",
       "  </tbody>\n",
       "</table>\n",
       "</div>"
      ],
      "text/plain": [
       "                         FILM  RottenTomatoes  RottenTomatoes_User  \\\n",
       "88  Mad Max: Fury Road (2015)              97                   88   \n",
       "\n",
       "    Metacritic  Metacritic_User  IMDB  Metacritic_user_vote_count  \\\n",
       "88          89              8.7   8.3                        2375   \n",
       "\n",
       "    IMDB_user_vote_count  Rotten_Diff  \n",
       "88                292023            9  "
      ]
     },
     "execution_count": 193,
     "metadata": {},
     "output_type": "execute_result"
    }
   ],
   "source": [
    "all_sites.sort_values(by=['Metacritic_user_vote_count'], ascending=False).head(1)"
   ]
  },
  {
   "cell_type": "markdown",
   "id": "08d6c74d",
   "metadata": {},
   "source": [
    "### Notes Fandago vs. Autres Plateformes\n",
    "\n",
    "Pour finir, commençons à examiner si Fandango affiche artificiellement des notes supérieures aux autres sites de critiques de film pour augmenter les ventes de billets."
   ]
  },
  {
   "cell_type": "code",
   "execution_count": 198,
   "id": "0822b3d3",
   "metadata": {},
   "outputs": [
    {
     "data": {
      "text/html": [
       "<div>\n",
       "<style scoped>\n",
       "    .dataframe tbody tr th:only-of-type {\n",
       "        vertical-align: middle;\n",
       "    }\n",
       "\n",
       "    .dataframe tbody tr th {\n",
       "        vertical-align: top;\n",
       "    }\n",
       "\n",
       "    .dataframe thead th {\n",
       "        text-align: right;\n",
       "    }\n",
       "</style>\n",
       "<table border=\"1\" class=\"dataframe\">\n",
       "  <thead>\n",
       "    <tr style=\"text-align: right;\">\n",
       "      <th></th>\n",
       "      <th>FILM</th>\n",
       "      <th>STARS</th>\n",
       "      <th>RATING</th>\n",
       "      <th>VOTES</th>\n",
       "      <th>YEAR</th>\n",
       "      <th>RottenTomatoes</th>\n",
       "      <th>RottenTomatoes_User</th>\n",
       "      <th>Metacritic</th>\n",
       "      <th>Metacritic_User</th>\n",
       "      <th>IMDB</th>\n",
       "      <th>Metacritic_user_vote_count</th>\n",
       "      <th>IMDB_user_vote_count</th>\n",
       "      <th>Rotten_Diff</th>\n",
       "    </tr>\n",
       "  </thead>\n",
       "  <tbody>\n",
       "    <tr>\n",
       "      <th>0</th>\n",
       "      <td>Fifty Shades of Grey (2015)</td>\n",
       "      <td>4.0</td>\n",
       "      <td>3.9</td>\n",
       "      <td>34846</td>\n",
       "      <td>2015</td>\n",
       "      <td>25</td>\n",
       "      <td>42</td>\n",
       "      <td>46</td>\n",
       "      <td>3.2</td>\n",
       "      <td>4.2</td>\n",
       "      <td>778</td>\n",
       "      <td>179506</td>\n",
       "      <td>-17</td>\n",
       "    </tr>\n",
       "    <tr>\n",
       "      <th>1</th>\n",
       "      <td>Jurassic World (2015)</td>\n",
       "      <td>4.5</td>\n",
       "      <td>4.5</td>\n",
       "      <td>34390</td>\n",
       "      <td>2015</td>\n",
       "      <td>71</td>\n",
       "      <td>81</td>\n",
       "      <td>59</td>\n",
       "      <td>7.0</td>\n",
       "      <td>7.3</td>\n",
       "      <td>1281</td>\n",
       "      <td>241807</td>\n",
       "      <td>-10</td>\n",
       "    </tr>\n",
       "    <tr>\n",
       "      <th>2</th>\n",
       "      <td>American Sniper (2015)</td>\n",
       "      <td>5.0</td>\n",
       "      <td>4.8</td>\n",
       "      <td>34085</td>\n",
       "      <td>2015</td>\n",
       "      <td>72</td>\n",
       "      <td>85</td>\n",
       "      <td>72</td>\n",
       "      <td>6.6</td>\n",
       "      <td>7.4</td>\n",
       "      <td>850</td>\n",
       "      <td>251856</td>\n",
       "      <td>-13</td>\n",
       "    </tr>\n",
       "    <tr>\n",
       "      <th>3</th>\n",
       "      <td>Furious 7 (2015)</td>\n",
       "      <td>5.0</td>\n",
       "      <td>4.8</td>\n",
       "      <td>33538</td>\n",
       "      <td>2015</td>\n",
       "      <td>81</td>\n",
       "      <td>84</td>\n",
       "      <td>67</td>\n",
       "      <td>6.8</td>\n",
       "      <td>7.4</td>\n",
       "      <td>764</td>\n",
       "      <td>207211</td>\n",
       "      <td>-3</td>\n",
       "    </tr>\n",
       "    <tr>\n",
       "      <th>4</th>\n",
       "      <td>Inside Out (2015)</td>\n",
       "      <td>4.5</td>\n",
       "      <td>4.5</td>\n",
       "      <td>15749</td>\n",
       "      <td>2015</td>\n",
       "      <td>98</td>\n",
       "      <td>90</td>\n",
       "      <td>94</td>\n",
       "      <td>8.9</td>\n",
       "      <td>8.6</td>\n",
       "      <td>807</td>\n",
       "      <td>96252</td>\n",
       "      <td>8</td>\n",
       "    </tr>\n",
       "    <tr>\n",
       "      <th>...</th>\n",
       "      <td>...</td>\n",
       "      <td>...</td>\n",
       "      <td>...</td>\n",
       "      <td>...</td>\n",
       "      <td>...</td>\n",
       "      <td>...</td>\n",
       "      <td>...</td>\n",
       "      <td>...</td>\n",
       "      <td>...</td>\n",
       "      <td>...</td>\n",
       "      <td>...</td>\n",
       "      <td>...</td>\n",
       "      <td>...</td>\n",
       "    </tr>\n",
       "    <tr>\n",
       "      <th>140</th>\n",
       "      <td>Kumiko, The Treasure Hunter (2015)</td>\n",
       "      <td>3.5</td>\n",
       "      <td>3.5</td>\n",
       "      <td>41</td>\n",
       "      <td>2015</td>\n",
       "      <td>87</td>\n",
       "      <td>63</td>\n",
       "      <td>68</td>\n",
       "      <td>6.4</td>\n",
       "      <td>6.7</td>\n",
       "      <td>19</td>\n",
       "      <td>5289</td>\n",
       "      <td>24</td>\n",
       "    </tr>\n",
       "    <tr>\n",
       "      <th>141</th>\n",
       "      <td>The Diary of a Teenage Girl (2015)</td>\n",
       "      <td>4.0</td>\n",
       "      <td>3.6</td>\n",
       "      <td>38</td>\n",
       "      <td>2015</td>\n",
       "      <td>95</td>\n",
       "      <td>81</td>\n",
       "      <td>87</td>\n",
       "      <td>6.3</td>\n",
       "      <td>7.0</td>\n",
       "      <td>18</td>\n",
       "      <td>1107</td>\n",
       "      <td>14</td>\n",
       "    </tr>\n",
       "    <tr>\n",
       "      <th>142</th>\n",
       "      <td>The Wrecking Crew (2015)</td>\n",
       "      <td>4.5</td>\n",
       "      <td>4.2</td>\n",
       "      <td>38</td>\n",
       "      <td>2015</td>\n",
       "      <td>93</td>\n",
       "      <td>84</td>\n",
       "      <td>67</td>\n",
       "      <td>7.0</td>\n",
       "      <td>7.8</td>\n",
       "      <td>4</td>\n",
       "      <td>732</td>\n",
       "      <td>9</td>\n",
       "    </tr>\n",
       "    <tr>\n",
       "      <th>143</th>\n",
       "      <td>Tangerine (2015)</td>\n",
       "      <td>4.0</td>\n",
       "      <td>3.9</td>\n",
       "      <td>36</td>\n",
       "      <td>2015</td>\n",
       "      <td>95</td>\n",
       "      <td>86</td>\n",
       "      <td>86</td>\n",
       "      <td>7.3</td>\n",
       "      <td>7.4</td>\n",
       "      <td>14</td>\n",
       "      <td>696</td>\n",
       "      <td>9</td>\n",
       "    </tr>\n",
       "    <tr>\n",
       "      <th>144</th>\n",
       "      <td>Maps to the Stars (2015)</td>\n",
       "      <td>3.5</td>\n",
       "      <td>3.1</td>\n",
       "      <td>35</td>\n",
       "      <td>2015</td>\n",
       "      <td>60</td>\n",
       "      <td>46</td>\n",
       "      <td>67</td>\n",
       "      <td>5.8</td>\n",
       "      <td>6.3</td>\n",
       "      <td>46</td>\n",
       "      <td>22440</td>\n",
       "      <td>14</td>\n",
       "    </tr>\n",
       "  </tbody>\n",
       "</table>\n",
       "<p>145 rows × 13 columns</p>\n",
       "</div>"
      ],
      "text/plain": [
       "                                   FILM  STARS  RATING  VOTES  YEAR  \\\n",
       "0           Fifty Shades of Grey (2015)    4.0     3.9  34846  2015   \n",
       "1                 Jurassic World (2015)    4.5     4.5  34390  2015   \n",
       "2                American Sniper (2015)    5.0     4.8  34085  2015   \n",
       "3                      Furious 7 (2015)    5.0     4.8  33538  2015   \n",
       "4                     Inside Out (2015)    4.5     4.5  15749  2015   \n",
       "..                                  ...    ...     ...    ...   ...   \n",
       "140  Kumiko, The Treasure Hunter (2015)    3.5     3.5     41  2015   \n",
       "141  The Diary of a Teenage Girl (2015)    4.0     3.6     38  2015   \n",
       "142            The Wrecking Crew (2015)    4.5     4.2     38  2015   \n",
       "143                    Tangerine (2015)    4.0     3.9     36  2015   \n",
       "144            Maps to the Stars (2015)    3.5     3.1     35  2015   \n",
       "\n",
       "     RottenTomatoes  RottenTomatoes_User  Metacritic  Metacritic_User  IMDB  \\\n",
       "0                25                   42          46              3.2   4.2   \n",
       "1                71                   81          59              7.0   7.3   \n",
       "2                72                   85          72              6.6   7.4   \n",
       "3                81                   84          67              6.8   7.4   \n",
       "4                98                   90          94              8.9   8.6   \n",
       "..              ...                  ...         ...              ...   ...   \n",
       "140              87                   63          68              6.4   6.7   \n",
       "141              95                   81          87              6.3   7.0   \n",
       "142              93                   84          67              7.0   7.8   \n",
       "143              95                   86          86              7.3   7.4   \n",
       "144              60                   46          67              5.8   6.3   \n",
       "\n",
       "     Metacritic_user_vote_count  IMDB_user_vote_count  Rotten_Diff  \n",
       "0                           778                179506          -17  \n",
       "1                          1281                241807          -10  \n",
       "2                           850                251856          -13  \n",
       "3                           764                207211           -3  \n",
       "4                           807                 96252            8  \n",
       "..                          ...                   ...          ...  \n",
       "140                          19                  5289           24  \n",
       "141                          18                  1107           14  \n",
       "142                           4                   732            9  \n",
       "143                          14                   696            9  \n",
       "144                          46                 22440           14  \n",
       "\n",
       "[145 rows x 13 columns]"
      ]
     },
     "execution_count": 198,
     "metadata": {},
     "output_type": "execute_result"
    }
   ],
   "source": [
    "df = pd.merge(fandango,all_sites, how='inner', on='FILM')\n",
    "df"
   ]
  },
  {
   "cell_type": "code",
   "execution_count": 218,
   "id": "4e9d6670",
   "metadata": {},
   "outputs": [
    {
     "name": "stdout",
     "output_type": "stream",
     "text": [
      "<class 'pandas.core.frame.DataFrame'>\n",
      "Int64Index: 145 entries, 0 to 144\n",
      "Data columns (total 18 columns):\n",
      " #   Column                      Non-Null Count  Dtype  \n",
      "---  ------                      --------------  -----  \n",
      " 0   FILM                        145 non-null    object \n",
      " 1   STARS                       145 non-null    float64\n",
      " 2   RATING                      145 non-null    float64\n",
      " 3   VOTES                       145 non-null    int64  \n",
      " 4   YEAR                        145 non-null    object \n",
      " 5   RottenTomatoes              145 non-null    int64  \n",
      " 6   RottenTomatoes_User         145 non-null    int64  \n",
      " 7   Metacritic                  145 non-null    int64  \n",
      " 8   Metacritic_User             145 non-null    float64\n",
      " 9   IMDB                        145 non-null    float64\n",
      " 10  Metacritic_user_vote_count  145 non-null    int64  \n",
      " 11  IMDB_user_vote_count        145 non-null    int64  \n",
      " 12  Rotten_Diff                 145 non-null    int64  \n",
      " 13  RT_Norm                     145 non-null    float64\n",
      " 14  RTU_Norm                    145 non-null    float64\n",
      " 15  Meta_Norm                   145 non-null    float64\n",
      " 16  MetaU_Norm                  145 non-null    float64\n",
      " 17  IMDB_Norm                   145 non-null    float64\n",
      "dtypes: float64(9), int64(7), object(2)\n",
      "memory usage: 21.5+ KB\n"
     ]
    }
   ],
   "source": [
    "df.info()"
   ]
  },
  {
   "cell_type": "markdown",
   "id": "3d389eee",
   "metadata": {},
   "source": [
    "### Normalisation des colonnes comme celles de STARS et RATINGS de Fandango sur l'échelle 0-5\n",
    "\n",
    "Notez que RT, MetaCritic et IMDb n'utilisent pas un score (note) compris entre 0 et 5 étoiles comme le fait Fandango. Pour faire une comparaison équitable, nous devons *normaliser* ces valeurs afin qu'elles se situent toutes entre 0 et 5 étoiles et que la relation entre les avis reste la même."
   ]
  },
  {
   "cell_type": "code",
   "execution_count": 233,
   "id": "d40cc3fb",
   "metadata": {},
   "outputs": [],
   "source": [
    "df['RT_Norm'] = df['RottenTomatoes'].apply(lambda x: round(x/20,2))"
   ]
  },
  {
   "cell_type": "code",
   "execution_count": 234,
   "id": "69780820",
   "metadata": {},
   "outputs": [],
   "source": [
    "df['RTU_Norm'] = df['RottenTomatoes_User'].apply(lambda x: round(x/20,2))"
   ]
  },
  {
   "cell_type": "code",
   "execution_count": 235,
   "id": "c9450491",
   "metadata": {},
   "outputs": [],
   "source": [
    "df['Meta_Norm'] = df['Metacritic'].apply(lambda x: round(x/20,2))"
   ]
  },
  {
   "cell_type": "code",
   "execution_count": 236,
   "id": "912a0ab4",
   "metadata": {},
   "outputs": [],
   "source": [
    "df['MetaU_Norm'] = df['Metacritic_User'].apply(lambda x: round(x/20,2))"
   ]
  },
  {
   "cell_type": "code",
   "execution_count": 238,
   "id": "5517488a",
   "metadata": {
    "scrolled": true
   },
   "outputs": [
    {
     "data": {
      "text/html": [
       "<div>\n",
       "<style scoped>\n",
       "    .dataframe tbody tr th:only-of-type {\n",
       "        vertical-align: middle;\n",
       "    }\n",
       "\n",
       "    .dataframe tbody tr th {\n",
       "        vertical-align: top;\n",
       "    }\n",
       "\n",
       "    .dataframe thead th {\n",
       "        text-align: right;\n",
       "    }\n",
       "</style>\n",
       "<table border=\"1\" class=\"dataframe\">\n",
       "  <thead>\n",
       "    <tr style=\"text-align: right;\">\n",
       "      <th></th>\n",
       "      <th>FILM</th>\n",
       "      <th>STARS</th>\n",
       "      <th>RATING</th>\n",
       "      <th>VOTES</th>\n",
       "      <th>YEAR</th>\n",
       "      <th>RottenTomatoes</th>\n",
       "      <th>RottenTomatoes_User</th>\n",
       "      <th>Metacritic</th>\n",
       "      <th>Metacritic_User</th>\n",
       "      <th>IMDB</th>\n",
       "      <th>Metacritic_user_vote_count</th>\n",
       "      <th>IMDB_user_vote_count</th>\n",
       "      <th>Rotten_Diff</th>\n",
       "      <th>RT_Norm</th>\n",
       "      <th>RTU_Norm</th>\n",
       "      <th>Meta_Norm</th>\n",
       "      <th>MetaU_Norm</th>\n",
       "      <th>IMDB_Norm</th>\n",
       "    </tr>\n",
       "  </thead>\n",
       "  <tbody>\n",
       "    <tr>\n",
       "      <th>0</th>\n",
       "      <td>Fifty Shades of Grey (2015)</td>\n",
       "      <td>4.0</td>\n",
       "      <td>3.9</td>\n",
       "      <td>34846</td>\n",
       "      <td>2015</td>\n",
       "      <td>25</td>\n",
       "      <td>42</td>\n",
       "      <td>46</td>\n",
       "      <td>3.2</td>\n",
       "      <td>4.2</td>\n",
       "      <td>778</td>\n",
       "      <td>179506</td>\n",
       "      <td>-17</td>\n",
       "      <td>1.25</td>\n",
       "      <td>2.10</td>\n",
       "      <td>2.30</td>\n",
       "      <td>0.16</td>\n",
       "      <td>0.21</td>\n",
       "    </tr>\n",
       "    <tr>\n",
       "      <th>1</th>\n",
       "      <td>Jurassic World (2015)</td>\n",
       "      <td>4.5</td>\n",
       "      <td>4.5</td>\n",
       "      <td>34390</td>\n",
       "      <td>2015</td>\n",
       "      <td>71</td>\n",
       "      <td>81</td>\n",
       "      <td>59</td>\n",
       "      <td>7.0</td>\n",
       "      <td>7.3</td>\n",
       "      <td>1281</td>\n",
       "      <td>241807</td>\n",
       "      <td>-10</td>\n",
       "      <td>3.55</td>\n",
       "      <td>4.05</td>\n",
       "      <td>2.95</td>\n",
       "      <td>0.35</td>\n",
       "      <td>0.36</td>\n",
       "    </tr>\n",
       "    <tr>\n",
       "      <th>2</th>\n",
       "      <td>American Sniper (2015)</td>\n",
       "      <td>5.0</td>\n",
       "      <td>4.8</td>\n",
       "      <td>34085</td>\n",
       "      <td>2015</td>\n",
       "      <td>72</td>\n",
       "      <td>85</td>\n",
       "      <td>72</td>\n",
       "      <td>6.6</td>\n",
       "      <td>7.4</td>\n",
       "      <td>850</td>\n",
       "      <td>251856</td>\n",
       "      <td>-13</td>\n",
       "      <td>3.60</td>\n",
       "      <td>4.25</td>\n",
       "      <td>3.60</td>\n",
       "      <td>0.33</td>\n",
       "      <td>0.37</td>\n",
       "    </tr>\n",
       "    <tr>\n",
       "      <th>3</th>\n",
       "      <td>Furious 7 (2015)</td>\n",
       "      <td>5.0</td>\n",
       "      <td>4.8</td>\n",
       "      <td>33538</td>\n",
       "      <td>2015</td>\n",
       "      <td>81</td>\n",
       "      <td>84</td>\n",
       "      <td>67</td>\n",
       "      <td>6.8</td>\n",
       "      <td>7.4</td>\n",
       "      <td>764</td>\n",
       "      <td>207211</td>\n",
       "      <td>-3</td>\n",
       "      <td>4.05</td>\n",
       "      <td>4.20</td>\n",
       "      <td>3.35</td>\n",
       "      <td>0.34</td>\n",
       "      <td>0.37</td>\n",
       "    </tr>\n",
       "    <tr>\n",
       "      <th>4</th>\n",
       "      <td>Inside Out (2015)</td>\n",
       "      <td>4.5</td>\n",
       "      <td>4.5</td>\n",
       "      <td>15749</td>\n",
       "      <td>2015</td>\n",
       "      <td>98</td>\n",
       "      <td>90</td>\n",
       "      <td>94</td>\n",
       "      <td>8.9</td>\n",
       "      <td>8.6</td>\n",
       "      <td>807</td>\n",
       "      <td>96252</td>\n",
       "      <td>8</td>\n",
       "      <td>4.90</td>\n",
       "      <td>4.50</td>\n",
       "      <td>4.70</td>\n",
       "      <td>0.45</td>\n",
       "      <td>0.43</td>\n",
       "    </tr>\n",
       "  </tbody>\n",
       "</table>\n",
       "</div>"
      ],
      "text/plain": [
       "                          FILM  STARS  RATING  VOTES  YEAR  RottenTomatoes  \\\n",
       "0  Fifty Shades of Grey (2015)    4.0     3.9  34846  2015              25   \n",
       "1        Jurassic World (2015)    4.5     4.5  34390  2015              71   \n",
       "2       American Sniper (2015)    5.0     4.8  34085  2015              72   \n",
       "3             Furious 7 (2015)    5.0     4.8  33538  2015              81   \n",
       "4            Inside Out (2015)    4.5     4.5  15749  2015              98   \n",
       "\n",
       "   RottenTomatoes_User  Metacritic  Metacritic_User  IMDB  \\\n",
       "0                   42          46              3.2   4.2   \n",
       "1                   81          59              7.0   7.3   \n",
       "2                   85          72              6.6   7.4   \n",
       "3                   84          67              6.8   7.4   \n",
       "4                   90          94              8.9   8.6   \n",
       "\n",
       "   Metacritic_user_vote_count  IMDB_user_vote_count  Rotten_Diff  RT_Norm  \\\n",
       "0                         778                179506          -17     1.25   \n",
       "1                        1281                241807          -10     3.55   \n",
       "2                         850                251856          -13     3.60   \n",
       "3                         764                207211           -3     4.05   \n",
       "4                         807                 96252            8     4.90   \n",
       "\n",
       "   RTU_Norm  Meta_Norm  MetaU_Norm  IMDB_Norm  \n",
       "0      2.10       2.30        0.16       0.21  \n",
       "1      4.05       2.95        0.35       0.36  \n",
       "2      4.25       3.60        0.33       0.37  \n",
       "3      4.20       3.35        0.34       0.37  \n",
       "4      4.50       4.70        0.45       0.43  "
      ]
     },
     "execution_count": 238,
     "metadata": {},
     "output_type": "execute_result"
    }
   ],
   "source": [
    "df['IMDB_Norm'] = df['IMDB'].apply(lambda x: round(x/20,2))\n",
    "df.head()"
   ]
  },
  {
   "cell_type": "markdown",
   "id": "9479ba4f",
   "metadata": {},
   "source": [
    " ## Un DataFrame norm_scores qui ne contient que les notes normalisées. Incluez à la fois STARS et RATING de la table Fandango d'origine."
   ]
  },
  {
   "cell_type": "code",
   "execution_count": 239,
   "id": "7b73f45e",
   "metadata": {},
   "outputs": [
    {
     "data": {
      "text/html": [
       "<div>\n",
       "<style scoped>\n",
       "    .dataframe tbody tr th:only-of-type {\n",
       "        vertical-align: middle;\n",
       "    }\n",
       "\n",
       "    .dataframe tbody tr th {\n",
       "        vertical-align: top;\n",
       "    }\n",
       "\n",
       "    .dataframe thead th {\n",
       "        text-align: right;\n",
       "    }\n",
       "</style>\n",
       "<table border=\"1\" class=\"dataframe\">\n",
       "  <thead>\n",
       "    <tr style=\"text-align: right;\">\n",
       "      <th></th>\n",
       "      <th>STARS</th>\n",
       "      <th>RATING</th>\n",
       "      <th>RT_Norm</th>\n",
       "      <th>RTU_Norm</th>\n",
       "      <th>Meta_Norm</th>\n",
       "      <th>MetaU_Norm</th>\n",
       "      <th>IMDB_Norm</th>\n",
       "    </tr>\n",
       "  </thead>\n",
       "  <tbody>\n",
       "    <tr>\n",
       "      <th>0</th>\n",
       "      <td>4.0</td>\n",
       "      <td>3.9</td>\n",
       "      <td>1.25</td>\n",
       "      <td>2.10</td>\n",
       "      <td>2.30</td>\n",
       "      <td>0.16</td>\n",
       "      <td>0.21</td>\n",
       "    </tr>\n",
       "    <tr>\n",
       "      <th>1</th>\n",
       "      <td>4.5</td>\n",
       "      <td>4.5</td>\n",
       "      <td>3.55</td>\n",
       "      <td>4.05</td>\n",
       "      <td>2.95</td>\n",
       "      <td>0.35</td>\n",
       "      <td>0.36</td>\n",
       "    </tr>\n",
       "    <tr>\n",
       "      <th>2</th>\n",
       "      <td>5.0</td>\n",
       "      <td>4.8</td>\n",
       "      <td>3.60</td>\n",
       "      <td>4.25</td>\n",
       "      <td>3.60</td>\n",
       "      <td>0.33</td>\n",
       "      <td>0.37</td>\n",
       "    </tr>\n",
       "    <tr>\n",
       "      <th>3</th>\n",
       "      <td>5.0</td>\n",
       "      <td>4.8</td>\n",
       "      <td>4.05</td>\n",
       "      <td>4.20</td>\n",
       "      <td>3.35</td>\n",
       "      <td>0.34</td>\n",
       "      <td>0.37</td>\n",
       "    </tr>\n",
       "    <tr>\n",
       "      <th>4</th>\n",
       "      <td>4.5</td>\n",
       "      <td>4.5</td>\n",
       "      <td>4.90</td>\n",
       "      <td>4.50</td>\n",
       "      <td>4.70</td>\n",
       "      <td>0.45</td>\n",
       "      <td>0.43</td>\n",
       "    </tr>\n",
       "  </tbody>\n",
       "</table>\n",
       "</div>"
      ],
      "text/plain": [
       "   STARS  RATING  RT_Norm  RTU_Norm  Meta_Norm  MetaU_Norm  IMDB_Norm\n",
       "0    4.0     3.9     1.25      2.10       2.30        0.16       0.21\n",
       "1    4.5     4.5     3.55      4.05       2.95        0.35       0.36\n",
       "2    5.0     4.8     3.60      4.25       3.60        0.33       0.37\n",
       "3    5.0     4.8     4.05      4.20       3.35        0.34       0.37\n",
       "4    4.5     4.5     4.90      4.50       4.70        0.45       0.43"
      ]
     },
     "execution_count": 239,
     "metadata": {},
     "output_type": "execute_result"
    }
   ],
   "source": [
    "norm_scores = df.loc[:,['STARS','RATING','RT_Norm','RTU_Norm','Meta_Norm','MetaU_Norm','IMDB_Norm']]\n",
    "norm_scores.head(5)"
   ]
  },
  {
   "cell_type": "markdown",
   "id": "f950d7af",
   "metadata": {},
   "source": [
    "### Comparaison de la distribution des notes entre les sites\n",
    "\n",
    "\n",
    "Maintenant, c'est le moment de vérité ! Est-ce que Fandango affiche des notes anormalement élevées ? Nous savons déjà que Fandango affiche une note STARS sous forme d'étoiles plus haute que la note réelle RATING, mais les notes elles-mêmes sont-elles supérieures à la moyenne de toutes les plateformes d'évaluations et critiques de films ?\n"
   ]
  },
  {
   "cell_type": "code",
   "execution_count": 251,
   "id": "2dcf36a9",
   "metadata": {},
   "outputs": [
    {
     "data": {
      "text/plain": [
       "(0.0, 0.12)"
      ]
     },
     "execution_count": 251,
     "metadata": {},
     "output_type": "execute_result"
    },
    {
     "data": {
      "image/png": "[encoded data removed]",
      "text/plain": [
       "<Figure size 1008x432 with 1 Axes>"
      ]
     },
     "metadata": {
      "needs_background": "light"
     },
     "output_type": "display_data"
    }
   ],
   "source": [
    "plt.figure(figsize=(14,6))\n",
    "ax = sns.kdeplot(data=norm_scores, shade=True)\n",
    "sns.move_legend(ax, 'upper left')\n",
    "plt.ylim(0,0.12)"
   ]
  },
  {
   "cell_type": "markdown",
   "id": "383a9c72",
   "metadata": {},
   "source": [
    "## Il est clair que la distribution de Fandango est inégale. Nous pouvons également constater que les critiques de RT ont la distribution la plus uniforme. Comparons directement ces deux-là."
   ]
  },
  {
   "cell_type": "code",
   "execution_count": 254,
   "id": "1400462e",
   "metadata": {},
   "outputs": [
    {
     "data": {
      "text/plain": [
       "<AxesSubplot:ylabel='Density'>"
      ]
     },
     "execution_count": 254,
     "metadata": {},
     "output_type": "execute_result"
    },
    {
     "data": {
      "image/png": "[encoded data removed]",
      "text/plain": [
       "<Figure size 432x288 with 1 Axes>"
      ]
     },
     "metadata": {
      "needs_background": "light"
     },
     "output_type": "display_data"
    }
   ],
   "source": [
    "norm1 = pd.concat([norm_scores['STARS'],norm_scores['RT_Norm']], axis=1)\n",
    "sns.kdeplot(data=norm1, shade=True, clip=(0,5))"
   ]
  },
  {
   "cell_type": "markdown",
   "id": "af09ffe8",
   "metadata": {},
   "source": [
    " ## Un histogramme comparant toutes les notes normalisées"
   ]
  },
  {
   "cell_type": "code",
   "execution_count": 260,
   "id": "9b194826",
   "metadata": {},
   "outputs": [
    {
     "data": {
      "image/png": "[encoded data removed]",
      "text/plain": [
       "<Figure size 720x432 with 1 Axes>"
      ]
     },
     "metadata": {
      "needs_background": "light"
     },
     "output_type": "display_data"
    }
   ],
   "source": [
    "plt.figure(figsize=(10,6))\n",
    "ax = sns.histplot(data=norm_scores,bins=50)\n",
    "sns.move_legend(ax,'upper left')"
   ]
  },
  {
   "cell_type": "markdown",
   "id": "26217336",
   "metadata": {},
   "source": [
    "### Comment sont évalués les pires films sur toutes les plateformes ?"
   ]
  },
  {
   "cell_type": "code",
   "execution_count": 265,
   "id": "5a18b65a",
   "metadata": {},
   "outputs": [
    {
     "data": {
      "image/png": "[encoded data removed]",
      "text/plain": [
       "<Figure size 720x720 with 4 Axes>"
      ]
     },
     "metadata": {
      "needs_background": "light"
     },
     "output_type": "display_data"
    }
   ],
   "source": [
    "sns.clustermap(norm_scores, cmap = 'copper', row_cluster=True, col_cluster=True)\n",
    "plt.show()"
   ]
  },
  {
   "cell_type": "markdown",
   "id": "6afc8037",
   "metadata": {},
   "source": [
    "Il est clair que Fandango note les films de façon beaucoup plus généreuse que les autres plateformes, surtout si l'on considère qu'il affiche alors une version arrondie de sa note. Examinons le top 10 des pires films. Sur la base des évaluations des critiques de Rotten Tomatoes, quels sont les 10 films les moins bien notés ? Quels sont les scores normalisés sur toutes les plateformes pour ces films ? "
   ]
  },
  {
   "cell_type": "code",
   "execution_count": 266,
   "id": "05d41e7c",
   "metadata": {},
   "outputs": [
    {
     "data": {
      "text/html": [
       "<div>\n",
       "<style scoped>\n",
       "    .dataframe tbody tr th:only-of-type {\n",
       "        vertical-align: middle;\n",
       "    }\n",
       "\n",
       "    .dataframe tbody tr th {\n",
       "        vertical-align: top;\n",
       "    }\n",
       "\n",
       "    .dataframe thead th {\n",
       "        text-align: right;\n",
       "    }\n",
       "</style>\n",
       "<table border=\"1\" class=\"dataframe\">\n",
       "  <thead>\n",
       "    <tr style=\"text-align: right;\">\n",
       "      <th></th>\n",
       "      <th>FILM</th>\n",
       "      <th>STARS</th>\n",
       "      <th>RATING</th>\n",
       "      <th>VOTES</th>\n",
       "      <th>YEAR</th>\n",
       "      <th>RottenTomatoes</th>\n",
       "      <th>RottenTomatoes_User</th>\n",
       "      <th>Metacritic</th>\n",
       "      <th>Metacritic_User</th>\n",
       "      <th>IMDB</th>\n",
       "      <th>Metacritic_user_vote_count</th>\n",
       "      <th>IMDB_user_vote_count</th>\n",
       "      <th>Rotten_Diff</th>\n",
       "      <th>RT_Norm</th>\n",
       "      <th>RTU_Norm</th>\n",
       "      <th>Meta_Norm</th>\n",
       "      <th>MetaU_Norm</th>\n",
       "      <th>IMDB_Norm</th>\n",
       "    </tr>\n",
       "  </thead>\n",
       "  <tbody>\n",
       "    <tr>\n",
       "      <th>0</th>\n",
       "      <td>Fifty Shades of Grey (2015)</td>\n",
       "      <td>4.0</td>\n",
       "      <td>3.9</td>\n",
       "      <td>34846</td>\n",
       "      <td>2015</td>\n",
       "      <td>25</td>\n",
       "      <td>42</td>\n",
       "      <td>46</td>\n",
       "      <td>3.2</td>\n",
       "      <td>4.2</td>\n",
       "      <td>778</td>\n",
       "      <td>179506</td>\n",
       "      <td>-17</td>\n",
       "      <td>1.25</td>\n",
       "      <td>2.10</td>\n",
       "      <td>2.30</td>\n",
       "      <td>0.16</td>\n",
       "      <td>0.21</td>\n",
       "    </tr>\n",
       "    <tr>\n",
       "      <th>1</th>\n",
       "      <td>Jurassic World (2015)</td>\n",
       "      <td>4.5</td>\n",
       "      <td>4.5</td>\n",
       "      <td>34390</td>\n",
       "      <td>2015</td>\n",
       "      <td>71</td>\n",
       "      <td>81</td>\n",
       "      <td>59</td>\n",
       "      <td>7.0</td>\n",
       "      <td>7.3</td>\n",
       "      <td>1281</td>\n",
       "      <td>241807</td>\n",
       "      <td>-10</td>\n",
       "      <td>3.55</td>\n",
       "      <td>4.05</td>\n",
       "      <td>2.95</td>\n",
       "      <td>0.35</td>\n",
       "      <td>0.36</td>\n",
       "    </tr>\n",
       "  </tbody>\n",
       "</table>\n",
       "</div>"
      ],
      "text/plain": [
       "                          FILM  STARS  RATING  VOTES  YEAR  RottenTomatoes  \\\n",
       "0  Fifty Shades of Grey (2015)    4.0     3.9  34846  2015              25   \n",
       "1        Jurassic World (2015)    4.5     4.5  34390  2015              71   \n",
       "\n",
       "   RottenTomatoes_User  Metacritic  Metacritic_User  IMDB  \\\n",
       "0                   42          46              3.2   4.2   \n",
       "1                   81          59              7.0   7.3   \n",
       "\n",
       "   Metacritic_user_vote_count  IMDB_user_vote_count  Rotten_Diff  RT_Norm  \\\n",
       "0                         778                179506          -17     1.25   \n",
       "1                        1281                241807          -10     3.55   \n",
       "\n",
       "   RTU_Norm  Meta_Norm  MetaU_Norm  IMDB_Norm  \n",
       "0      2.10       2.30        0.16       0.21  \n",
       "1      4.05       2.95        0.35       0.36  "
      ]
     },
     "execution_count": 266,
     "metadata": {},
     "output_type": "execute_result"
    }
   ],
   "source": [
    "df.head(2)"
   ]
  },
  {
   "cell_type": "code",
   "execution_count": 271,
   "id": "2926fa5e",
   "metadata": {},
   "outputs": [
    {
     "data": {
      "text/html": [
       "<div>\n",
       "<style scoped>\n",
       "    .dataframe tbody tr th:only-of-type {\n",
       "        vertical-align: middle;\n",
       "    }\n",
       "\n",
       "    .dataframe tbody tr th {\n",
       "        vertical-align: top;\n",
       "    }\n",
       "\n",
       "    .dataframe thead th {\n",
       "        text-align: right;\n",
       "    }\n",
       "</style>\n",
       "<table border=\"1\" class=\"dataframe\">\n",
       "  <thead>\n",
       "    <tr style=\"text-align: right;\">\n",
       "      <th></th>\n",
       "      <th>STARS</th>\n",
       "      <th>RATING</th>\n",
       "      <th>RT_Norm</th>\n",
       "      <th>RTU_Norm</th>\n",
       "      <th>Meta_Norm</th>\n",
       "      <th>MetaU_Norm</th>\n",
       "      <th>IMDB_Norm</th>\n",
       "      <th>FILM</th>\n",
       "    </tr>\n",
       "  </thead>\n",
       "  <tbody>\n",
       "    <tr>\n",
       "      <th>49</th>\n",
       "      <td>3.5</td>\n",
       "      <td>3.5</td>\n",
       "      <td>0.25</td>\n",
       "      <td>1.80</td>\n",
       "      <td>0.65</td>\n",
       "      <td>0.12</td>\n",
       "      <td>0.21</td>\n",
       "      <td>Paul Blart: Mall Cop 2 (2015)</td>\n",
       "    </tr>\n",
       "    <tr>\n",
       "      <th>84</th>\n",
       "      <td>4.0</td>\n",
       "      <td>3.9</td>\n",
       "      <td>0.35</td>\n",
       "      <td>2.45</td>\n",
       "      <td>1.40</td>\n",
       "      <td>0.16</td>\n",
       "      <td>0.30</td>\n",
       "      <td>Hitman: Agent 47 (2015)</td>\n",
       "    </tr>\n",
       "    <tr>\n",
       "      <th>54</th>\n",
       "      <td>4.0</td>\n",
       "      <td>3.7</td>\n",
       "      <td>0.40</td>\n",
       "      <td>1.85</td>\n",
       "      <td>1.55</td>\n",
       "      <td>0.18</td>\n",
       "      <td>0.25</td>\n",
       "      <td>Hot Pursuit (2015)</td>\n",
       "    </tr>\n",
       "    <tr>\n",
       "      <th>25</th>\n",
       "      <td>4.5</td>\n",
       "      <td>4.1</td>\n",
       "      <td>0.45</td>\n",
       "      <td>2.30</td>\n",
       "      <td>1.30</td>\n",
       "      <td>0.23</td>\n",
       "      <td>0.30</td>\n",
       "      <td>Taken 3 (2015)</td>\n",
       "    </tr>\n",
       "    <tr>\n",
       "      <th>28</th>\n",
       "      <td>3.0</td>\n",
       "      <td>2.7</td>\n",
       "      <td>0.45</td>\n",
       "      <td>1.00</td>\n",
       "      <td>1.35</td>\n",
       "      <td>0.12</td>\n",
       "      <td>0.20</td>\n",
       "      <td>Fantastic Four (2015)</td>\n",
       "    </tr>\n",
       "    <tr>\n",
       "      <th>50</th>\n",
       "      <td>4.0</td>\n",
       "      <td>3.6</td>\n",
       "      <td>0.50</td>\n",
       "      <td>1.75</td>\n",
       "      <td>1.50</td>\n",
       "      <td>0.28</td>\n",
       "      <td>0.23</td>\n",
       "      <td>The Boy Next Door (2015)</td>\n",
       "    </tr>\n",
       "    <tr>\n",
       "      <th>88</th>\n",
       "      <td>4.0</td>\n",
       "      <td>3.6</td>\n",
       "      <td>0.55</td>\n",
       "      <td>2.00</td>\n",
       "      <td>1.20</td>\n",
       "      <td>0.12</td>\n",
       "      <td>0.32</td>\n",
       "      <td>The Loft (2015)</td>\n",
       "    </tr>\n",
       "    <tr>\n",
       "      <th>87</th>\n",
       "      <td>3.5</td>\n",
       "      <td>3.2</td>\n",
       "      <td>0.55</td>\n",
       "      <td>1.35</td>\n",
       "      <td>1.60</td>\n",
       "      <td>0.19</td>\n",
       "      <td>0.27</td>\n",
       "      <td>Unfinished Business (2015)</td>\n",
       "    </tr>\n",
       "    <tr>\n",
       "      <th>78</th>\n",
       "      <td>3.5</td>\n",
       "      <td>3.2</td>\n",
       "      <td>0.60</td>\n",
       "      <td>1.50</td>\n",
       "      <td>1.35</td>\n",
       "      <td>0.16</td>\n",
       "      <td>0.28</td>\n",
       "      <td>Mortdecai (2015)</td>\n",
       "    </tr>\n",
       "    <tr>\n",
       "      <th>77</th>\n",
       "      <td>3.5</td>\n",
       "      <td>3.2</td>\n",
       "      <td>0.60</td>\n",
       "      <td>1.75</td>\n",
       "      <td>1.50</td>\n",
       "      <td>0.20</td>\n",
       "      <td>0.28</td>\n",
       "      <td>Seventh Son (2015)</td>\n",
       "    </tr>\n",
       "  </tbody>\n",
       "</table>\n",
       "</div>"
      ],
      "text/plain": [
       "    STARS  RATING  RT_Norm  RTU_Norm  Meta_Norm  MetaU_Norm  IMDB_Norm  \\\n",
       "49    3.5     3.5     0.25      1.80       0.65        0.12       0.21   \n",
       "84    4.0     3.9     0.35      2.45       1.40        0.16       0.30   \n",
       "54    4.0     3.7     0.40      1.85       1.55        0.18       0.25   \n",
       "25    4.5     4.1     0.45      2.30       1.30        0.23       0.30   \n",
       "28    3.0     2.7     0.45      1.00       1.35        0.12       0.20   \n",
       "50    4.0     3.6     0.50      1.75       1.50        0.28       0.23   \n",
       "88    4.0     3.6     0.55      2.00       1.20        0.12       0.32   \n",
       "87    3.5     3.2     0.55      1.35       1.60        0.19       0.27   \n",
       "78    3.5     3.2     0.60      1.50       1.35        0.16       0.28   \n",
       "77    3.5     3.2     0.60      1.75       1.50        0.20       0.28   \n",
       "\n",
       "                             FILM  \n",
       "49  Paul Blart: Mall Cop 2 (2015)  \n",
       "84        Hitman: Agent 47 (2015)  \n",
       "54             Hot Pursuit (2015)  \n",
       "25                 Taken 3 (2015)  \n",
       "28          Fantastic Four (2015)  \n",
       "50       The Boy Next Door (2015)  \n",
       "88                The Loft (2015)  \n",
       "87     Unfinished Business (2015)  \n",
       "78               Mortdecai (2015)  \n",
       "77             Seventh Son (2015)  "
      ]
     },
     "execution_count": 271,
     "metadata": {},
     "output_type": "execute_result"
    }
   ],
   "source": [
    "df.sort_values(by='RottenTomatoes',ascending=True).head(10).loc[:,['STARS','RATING','RT_Norm','RTU_Norm','Meta_Norm','MetaU_Norm','IMDB_Norm','FILM']]"
   ]
  },
  {
   "cell_type": "markdown",
   "id": "a1c723ed",
   "metadata": {},
   "source": [
    "## Visualisation de la distribution des notes sur toutes les plateformes pour les 10 films les plus mal notés par les critiques de RT"
   ]
  },
  {
   "cell_type": "code",
   "execution_count": 272,
   "id": "05f8237c",
   "metadata": {},
   "outputs": [],
   "source": [
    "df1 = df.sort_values(by='RottenTomatoes',ascending=True).head(10).loc[:,['STARS','RATING','RT_Norm','RTU_Norm','Meta_Norm','MetaU_Norm','IMDB_Norm','FILM']]"
   ]
  },
  {
   "cell_type": "code",
   "execution_count": 275,
   "id": "b69ce085",
   "metadata": {},
   "outputs": [
    {
     "data": {
      "text/plain": [
       "<AxesSubplot:ylabel='Density'>"
      ]
     },
     "execution_count": 275,
     "metadata": {},
     "output_type": "execute_result"
    },
    {
     "data": {
      "image/png": "[encoded data removed]",
      "text/plain": [
       "<Figure size 1008x360 with 1 Axes>"
      ]
     },
     "metadata": {
      "needs_background": "light"
     },
     "output_type": "display_data"
    }
   ],
   "source": [
    "plt.figure(figsize=(14,5))\n",
    "sns.kdeplot(data=df1, shade=True)"
   ]
  },
  {
   "cell_type": "markdown",
   "id": "fb922b51",
   "metadata": {},
   "source": [
    "Réflexions finales : Wow ! Fandango affiche environ 3 à 4 étoiles pour des films clairement mauvais ! Remarquez le plus grand escroc : [Taken 3 !](https://www.youtube.com/watch?v=tJrfImRCHJ0). Fandango affiche 4,5 étoiles sur son site pour un film avec une [note moyenne de 1,86](https://en.wikipedia.org/wiki/Taken_3#Critical_response) sur les autres plateformes !"
   ]
  },
  {
   "cell_type": "code",
   "execution_count": 281,
   "id": "ae0bbe2d",
   "metadata": {},
   "outputs": [
    {
     "data": {
      "text/html": [
       "<div>\n",
       "<style scoped>\n",
       "    .dataframe tbody tr th:only-of-type {\n",
       "        vertical-align: middle;\n",
       "    }\n",
       "\n",
       "    .dataframe tbody tr th {\n",
       "        vertical-align: top;\n",
       "    }\n",
       "\n",
       "    .dataframe thead th {\n",
       "        text-align: right;\n",
       "    }\n",
       "</style>\n",
       "<table border=\"1\" class=\"dataframe\">\n",
       "  <thead>\n",
       "    <tr style=\"text-align: right;\">\n",
       "      <th></th>\n",
       "      <th>STARS</th>\n",
       "      <th>RATING</th>\n",
       "      <th>RT_Norm</th>\n",
       "      <th>RTU_Norm</th>\n",
       "      <th>Meta_Norm</th>\n",
       "      <th>MetaU_Norm</th>\n",
       "      <th>IMDB_Norm</th>\n",
       "      <th>FILM</th>\n",
       "    </tr>\n",
       "  </thead>\n",
       "  <tbody>\n",
       "    <tr>\n",
       "      <th>25</th>\n",
       "      <td>4.5</td>\n",
       "      <td>4.1</td>\n",
       "      <td>0.45</td>\n",
       "      <td>2.3</td>\n",
       "      <td>1.3</td>\n",
       "      <td>0.23</td>\n",
       "      <td>0.3</td>\n",
       "      <td>Taken 3 (2015)</td>\n",
       "    </tr>\n",
       "  </tbody>\n",
       "</table>\n",
       "</div>"
      ],
      "text/plain": [
       "    STARS  RATING  RT_Norm  RTU_Norm  Meta_Norm  MetaU_Norm  IMDB_Norm  \\\n",
       "25    4.5     4.1     0.45       2.3        1.3        0.23        0.3   \n",
       "\n",
       "              FILM  \n",
       "25  Taken 3 (2015)  "
      ]
     },
     "execution_count": 281,
     "metadata": {},
     "output_type": "execute_result"
    }
   ],
   "source": [
    "df1.loc[df1['RATING'] == 4.1,:]"
   ]
  },
  {
   "cell_type": "markdown",
   "id": "df8ab8d0",
   "metadata": {},
   "source": [
    "### Copyright 01-09-2023  by Mioty Sahaza "
   ]
  },
  {
   "cell_type": "markdown",
   "id": "ba22adfc",
   "metadata": {},
   "source": [
    "## ALL RIGHT RESERVED"
   ]
  },
  {
   "cell_type": "code",
   "execution_count": null,
   "id": "7c7406be",
   "metadata": {},
   "outputs": [],
   "source": []
  }
 ],
 "metadata": {
  "kernelspec": {
   "display_name": "Python 3 (ipykernel)",
   "language": "python",
   "name": "python3"
  },
  "language_info": {
   "codemirror_mode": {
    "name": "ipython",
    "version": 3
   },
   "file_extension": ".py",
   "mimetype": "text/x-python",
   "name": "python",
   "nbconvert_exporter": "python",
   "pygments_lexer": "ipython3",
   "version": "3.9.7"
  }
 },
 "nbformat": 4,
 "nbformat_minor": 5
}
